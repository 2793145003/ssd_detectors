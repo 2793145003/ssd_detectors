{
 "cells": [
  {
   "cell_type": "code",
   "execution_count": null,
   "metadata": {},
   "outputs": [],
   "source": [
    "import numpy as np\n",
    "import matplotlib.pyplot as plt\n",
    "import cv2\n",
    "import keras\n",
    "import keras.backend as K\n",
    "import tensorflow as tf\n",
    "import random\n",
    "import os\n",
    "import json\n",
    "import time\n",
    "import glob\n",
    "\n",
    "from dsod_model import DSOD300, DSOD512\n",
    "from ssd_utils import PriorUtil\n",
    "from ssd_utils import load_weights\n",
    "from ssd_data import InputGenerator\n",
    "from ssd_data import preprocess\n",
    "from ssd_training import SSDLoss, SSDFocalLoss, Logger, LearningRateDecay\n",
    "\n",
    "%matplotlib inline\n",
    "plt.rcParams['figure.figsize'] = (8, 8)\n",
    "plt.rcParams['image.interpolation'] = 'nearest'\n",
    "\n",
    "np.set_printoptions(suppress=True)"
   ]
  },
  {
   "cell_type": "markdown",
   "metadata": {},
   "source": [
    "### Data"
   ]
  },
  {
   "cell_type": "markdown",
   "metadata": {},
   "source": [
    "#### Pascal VOC"
   ]
  },
  {
   "cell_type": "code",
   "execution_count": null,
   "metadata": {
    "collapsed": true
   },
   "outputs": [],
   "source": [
    "from data_voc import GTUtility\n",
    "gt_util = GTUtility('data/VOC2007/')\n",
    "gt_util_train, gt_util_val = gt_util.split(gt_util, split=0.8)\n",
    "#experiment_name = 'ssd_voc'\n",
    "#print(gt_util)"
   ]
  },
  {
   "cell_type": "markdown",
   "metadata": {},
   "source": [
    "#### MS COCO"
   ]
  },
  {
   "cell_type": "code",
   "execution_count": null,
   "metadata": {
    "collapsed": true
   },
   "outputs": [],
   "source": [
    "from data_coco import GTUtility\n",
    "gt_util = GTUtility('data/COCO/')\n",
    "gt_util_train, gt_util_val = gt_util.split(gt_util, split=0.8)\n",
    "#experiment_name = 'ssd_coco'\n",
    "#print(gt_util)"
   ]
  },
  {
   "cell_type": "markdown",
   "metadata": {},
   "source": [
    "### Model"
   ]
  },
  {
   "cell_type": "code",
   "execution_count": null,
   "metadata": {
    "collapsed": true
   },
   "outputs": [],
   "source": [
    "model = DSOD300(num_classes=gt_util.num_classes)\n",
    "\n",
    "image_size = model.image_size"
   ]
  },
  {
   "cell_type": "markdown",
   "metadata": {},
   "source": [
    "### Example data"
   ]
  },
  {
   "cell_type": "code",
   "execution_count": null,
   "metadata": {
    "collapsed": true
   },
   "outputs": [],
   "source": [
    "#gt_util = gt_util_train\n",
    "gt_util = gt_util_val\n",
    "np.random.seed(1337)\n",
    "idxs = np.random.randint(0, gt_util.num_samples, 32)\n",
    "img_h, img_w = image_size\n",
    "\n",
    "data = []\n",
    "inputs = []\n",
    "images = []\n",
    "for i in idxs:\n",
    "    img_path = os.path.join(gt_util.image_path, gt_util.image_names[i])\n",
    "    img = cv2.imread(img_path)\n",
    "    inputs.append(preprocess(img, image_size))\n",
    "    img = cv2.resize(img, (img_w, img_h), cv2.INTER_LINEAR)\n",
    "    img = img[:, :, (2,1,0)] # BGR to RGB\n",
    "    img = img / 256.\n",
    "    images.append(img)\n",
    "    data.append(gt_util.data[i])\n",
    "inputs = np.asarray(inputs)\n",
    "\n",
    "# plot ground truth\n",
    "#for i in range(len(images)):\n",
    "#    plt.figure()\n",
    "#    plt.imshow(images[i])\n",
    "#    gt_util.plot_gt(data[i])\n",
    "#    plt.show()"
   ]
  },
  {
   "cell_type": "markdown",
   "metadata": {},
   "source": [
    "### Priors"
   ]
  },
  {
   "cell_type": "code",
   "execution_count": null,
   "metadata": {
    "collapsed": true
   },
   "outputs": [],
   "source": [
    "prior_util = PriorUtil(model)\n",
    "\n",
    "# plot prior boxes\n",
    "#for m in prior_util.prior_maps:\n",
    "#    plt.figure()\n",
    "#    plt.imshow(images[0])\n",
    "#    m.plot_locations()\n",
    "#    m.plot_boxes([0, 10, 100])\n",
    "#    plt.show()"
   ]
  },
  {
   "cell_type": "markdown",
   "metadata": {},
   "source": [
    "### Weights"
   ]
  },
  {
   "cell_type": "code",
   "execution_count": null,
   "metadata": {},
   "outputs": [],
   "source": [
    "initial_epoch = 0\n",
    "\n",
    "weights_path = '~/.keras/models/vgg16_weights_tf_dim_ordering_tf_kernels_notop.h5'\n",
    "layer_list = [('block1_conv1', 'conv1_1'),\n",
    "              ('block1_conv2', 'conv1_2'),\n",
    "              ('block2_conv1', 'conv2_1'),\n",
    "              ('block2_conv2', 'conv2_2'),\n",
    "              ('block3_conv1', 'conv3_1'),\n",
    "              ('block3_conv2', 'conv3_2'),\n",
    "              ('block3_conv3', 'conv3_3'),\n",
    "              ('block4_conv1', 'conv4_1'),\n",
    "              ('block4_conv2', 'conv4_2'),\n",
    "              ('block4_conv3', 'conv4_3'),\n",
    "              ('block5_conv1', 'conv5_1'),\n",
    "              ('block5_conv2', 'conv5_2'),\n",
    "              ('block5_conv3', 'conv5_3')]\n",
    "#load_weights(model, weights_path, layer_list)\n",
    "\n",
    "model.load_weights('ssd300_voc_weights_fixed.hdf5', by_name=True)\n",
    "#model.load_weights('./checkpoints/201709191502_ssd_voc/weights.051.h5', by_name=True); initial_epoch = 52\n",
    "\n",
    "freeze = ['conv1_1', 'conv1_2',\n",
    "          'conv2_1', 'conv2_2',\n",
    "          'conv3_1', 'conv3_2', 'conv3_3',\n",
    "          #'conv4_1', 'conv4_2', 'conv4_3',\n",
    "          #'conv5_1', 'conv5_2', 'conv5_3',\n",
    "         ]"
   ]
  },
  {
   "cell_type": "code",
   "execution_count": null,
   "metadata": {
    "collapsed": true
   },
   "outputs": [],
   "source": [
    "initial_epoch = 0\n",
    "freeze = []\n",
    "experiment_name = 'dsod300_voc'"
   ]
  },
  {
   "cell_type": "markdown",
   "metadata": {},
   "source": [
    "### Training"
   ]
  },
  {
   "cell_type": "code",
   "execution_count": null,
   "metadata": {
    "scrolled": true
   },
   "outputs": [],
   "source": [
    "epochs = 1000\n",
    "batch_size = 16\n",
    "\n",
    "gen = InputGenerator(gt_util_train, gt_util_val, prior_util, batch_size, image_size, vflip_prob=0.0, do_crop=False)\n",
    "\n",
    "# freeze layers\n",
    "for l in model.layers:\n",
    "    l.trainable = not l.name in freeze\n",
    "\n",
    "checkdir = './checkpoints/' + time.strftime('%Y%m%d%H%M') + '_' + experiment_name\n",
    "if not os.path.exists(checkdir):\n",
    "    os.makedirs(checkdir)\n",
    "\n",
    "with open(checkdir+'/source.py','wb') as f:\n",
    "    source = ''.join(['# In[%i]\\n%s\\n\\n' % (i, In[i]) for i in range(len(In))])\n",
    "    f.write(source.encode())\n",
    "\n",
    "#optim = keras.optimizers.Adam(lr=0.001, beta_1=0.9, beta_2=0.999, epsilon=1e-08, decay=0.0)\n",
    "optim = keras.optimizers.SGD(lr=1e-3, momentum=0.9, decay=0, nesterov=True)\n",
    "\n",
    "# weight decay\n",
    "regularizer = keras.regularizers.l2(5e-4) # None if disabled\n",
    "for l in model.layers:\n",
    "    if l.__class__.__name__.startswith('Conv'):\n",
    "        l.kernel_regularizer = regularizer\n",
    "\n",
    "#loss = SSDLoss(alpha=1.0, neg_pos_ratio=3.0)\n",
    "loss = SSDFocalLoss()\n",
    "\n",
    "model.compile(optimizer=optim,\n",
    "              loss=loss.compute,\n",
    "              metrics=loss.metrics)\n",
    "        \n",
    "callbacks = [keras.callbacks.ModelCheckpoint(checkdir+'/weights.{epoch:03d}.h5',\n",
    "                                             verbose=1, save_weights_only=True),\n",
    "             Logger(checkdir),\n",
    "             LearningRateDecay()\n",
    "            ]\n",
    "\n",
    "history = model.fit_generator(gen.generate(train=True, augmentation=True), #generator, \n",
    "                              gen.num_train_batches, #steps_per_epoch, \n",
    "                              epochs=epochs, \n",
    "                              verbose=1, \n",
    "                              callbacks=callbacks, \n",
    "                              validation_data=gen.generate(train=False, augmentation=True), \n",
    "                              validation_steps=gen.num_val_batches, \n",
    "                              class_weight=None, \n",
    "                              #max_queue_size=10, \n",
    "                              workers=1, \n",
    "                              #use_multiprocessing=False, \n",
    "                              initial_epoch=initial_epoch)"
   ]
  },
  {
   "cell_type": "markdown",
   "metadata": {},
   "source": [
    "### Prediction"
   ]
  },
  {
   "cell_type": "code",
   "execution_count": null,
   "metadata": {
    "collapsed": true,
    "scrolled": true
   },
   "outputs": [],
   "source": [
    "preds = model.predict(inputs, batch_size=1, verbose=1)"
   ]
  },
  {
   "cell_type": "code",
   "execution_count": null,
   "metadata": {
    "collapsed": true,
    "scrolled": false
   },
   "outputs": [],
   "source": [
    "experiment = '201709191502_ssd_voc'\n",
    "\n",
    "for fl in glob.glob('checkpoints/%s/result_*' % (experiment,)):\n",
    "    os.remove(fl)\n",
    "\n",
    "for i in range(len(preds)):\n",
    "    plt.figure()\n",
    "    plt.imshow(images[i])\n",
    "    res = prior_util.decode(preds[i], confidence_threshold=0.5)\n",
    "    prior_util.plot_results(res, classes=gt_util.classes, show_labels=True, gt_data=data[i])\n",
    "    #prior_util.plot_results(res, classes=gt_util.classes, show_labels=True, gt_data=None)\n",
    "    #plt.savefig('checkpoints/%s/result_%03d.jpg' % (experiment, i))\n",
    "    plt.show()"
   ]
  },
  {
   "cell_type": "code",
   "execution_count": null,
   "metadata": {
    "collapsed": true
   },
   "outputs": [],
   "source": []
  }
 ],
 "metadata": {
  "anaconda-cloud": {},
  "kernelspec": {
   "display_name": "Python 3",
   "language": "python",
   "name": "python3"
  },
  "language_info": {
   "codemirror_mode": {
    "name": "ipython",
    "version": 3
   },
   "file_extension": ".py",
   "mimetype": "text/x-python",
   "name": "python",
   "nbconvert_exporter": "python",
   "pygments_lexer": "ipython3",
   "version": "3.5.2"
  }
 },
 "nbformat": 4,
 "nbformat_minor": 1
}
