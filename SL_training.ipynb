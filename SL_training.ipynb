{
 "cells": [
  {
   "cell_type": "code",
   "execution_count": 2,
   "metadata": {},
   "outputs": [],
   "source": [
    "import cv2\n",
    "import keras\n",
    "import keras.backend as K\n",
    "from keras.backend.tensorflow_backend import set_session\n",
    "from keras.callbacks import Callback\n",
    "import tensorflow as tf\n",
    "import matplotlib.pyplot as plt\n",
    "import numpy as np\n",
    "import random\n",
    "import os\n",
    "import time\n",
    "import glob\n",
    "import pickle\n",
    "\n",
    "from sl_model import SL512, DSODSL512\n",
    "from ssd_data import InputGenerator\n",
    "from ssd_data import preprocess\n",
    "from sl_utils import PriorUtil\n",
    "from ssd_utils import load_weights, calc_memory_usage\n",
    "from ssd_training import Logger, LearningRateDecay\n",
    "from sl_training import SegLinkLoss, SegLinkFocalLoss\n",
    "\n",
    "%matplotlib inline\n",
    "plt.rcParams['figure.figsize'] = (8, 8)\n",
    "plt.rcParams['image.interpolation'] = 'nearest'\n",
    "\n",
    "np.set_printoptions(suppress=True, linewidth=120)"
   ]
  },
  {
   "cell_type": "code",
   "execution_count": 2,
   "metadata": {},
   "outputs": [
    {
     "name": "stdout",
     "output_type": "stream",
     "text": [
      "Background              0\n",
      "Text              7266338\n",
      "\n",
      "images             858749\n",
      "objects           7266338\n",
      "per image            8.46\n",
      "no annotation           0\n",
      "\n"
     ]
    }
   ],
   "source": [
    "from data_synthtext import GTUtility\n",
    "\n",
    "file_name = 'gt_util_synthtext_seglink.pkl'\n",
    "with open(file_name, 'rb') as f:\n",
    "    gt_util = pickle.load(f)\n",
    "gt_util_train, gt_util_val = gt_util.split(gt_util, split=0.95)\n",
    "\n",
    "print(gt_util)"
   ]
  },
  {
   "cell_type": "code",
   "execution_count": 3,
   "metadata": {},
   "outputs": [
    {
     "name": "stdout",
     "output_type": "stream",
     "text": [
      "Background              0\n",
      "Text                42095\n",
      "\n",
      "images               4294\n",
      "objects             42095\n",
      "per image            9.80\n",
      "no annotation           0\n",
      "\n"
     ]
    }
   ],
   "source": [
    "gt_util_synth, foo = gt_util.split(gt_util, split=0.005)\n",
    "print(gt_util_synth)"
   ]
  },
  {
   "cell_type": "code",
   "execution_count": 4,
   "metadata": {},
   "outputs": [
    {
     "name": "stdout",
     "output_type": "stream",
     "text": [
      "Background              0\n",
      "Text                  849\n",
      "\n",
      "images                229\n",
      "objects               849\n",
      "per image            3.71\n",
      "no annotation           0\n",
      "\n"
     ]
    }
   ],
   "source": [
    "from data_icdar2015fst import GTUtility\n",
    "gt_util_icdar = GTUtility('data/ICDAR2015_FST/', test=False, polygon=True)\n",
    "print(gt_util_icdar)"
   ]
  },
  {
   "cell_type": "code",
   "execution_count": 5,
   "metadata": {},
   "outputs": [
    {
     "name": "stdout",
     "output_type": "stream",
     "text": [
      "Background              0\n",
      "Text                42944\n",
      "\n",
      "images               4523\n",
      "objects             42944\n",
      "per image            9.49\n",
      "no annotation           0\n",
      "\n"
     ]
    }
   ],
   "source": [
    "gt_util_train = GTUtility.merge(gt_util_synth, gt_util_icdar)\n",
    "print(gt_util_train)"
   ]
  },
  {
   "cell_type": "code",
   "execution_count": null,
   "metadata": {
    "collapsed": true
   },
   "outputs": [],
   "source": []
  },
  {
   "cell_type": "code",
   "execution_count": 6,
   "metadata": {},
   "outputs": [
    {
     "name": "stdout",
     "output_type": "stream",
     "text": [
      "model memory usage 1.50 GB\n"
     ]
    }
   ],
   "source": [
    "#model = SL512()\n",
    "model = DSODSL512()\n",
    "#model = DSODSL512(activation='leaky_relu')\n",
    "prior_util = PriorUtil(model, model.source_layers_names)\n",
    "image_size = model.image_size\n",
    "calc_memory_usage(model) # calc_model_size"
   ]
  },
  {
   "cell_type": "code",
   "execution_count": 7,
   "metadata": {
    "collapsed": true,
    "scrolled": true
   },
   "outputs": [],
   "source": [
    "inputs = []\n",
    "images = []\n",
    "data = []\n",
    "\n",
    "gtu = gt_util_val\n",
    "\n",
    "np.random.seed(1337)\n",
    "\n",
    "for i in np.random.randint(0, gtu.num_samples, 16):\n",
    "\n",
    "    img_path = os.path.join(gtu.image_path, gtu.image_names[i])\n",
    "    img = cv2.imread(img_path)\n",
    "    \n",
    "    inputs.append(preprocess(img, image_size))\n",
    "    \n",
    "    h, w = image_size\n",
    "    img = cv2.resize(img, (w,h), cv2.INTER_LINEAR).astype('float32') # should we do resizing\n",
    "    img = img[:, :, (2,1,0)] # BGR to RGB\n",
    "    img /= 255\n",
    "    images.append(img)\n",
    "    \n",
    "    boxes = gtu.data[i]\n",
    "    data.append(boxes)\n",
    "\n",
    "inputs = np.asarray(inputs)\n",
    "\n",
    "test_idx = 0\n",
    "test_input = inputs[test_idx]\n",
    "test_img = images[test_idx]\n",
    "test_gt = data[test_idx]\n",
    "\n",
    "#plt.figure()\n",
    "#plt.imshow(test_img)\n",
    "#gt_util.plot_gt(test_gt, show_labels=False)\n",
    "#plt.show()"
   ]
  },
  {
   "cell_type": "code",
   "execution_count": 8,
   "metadata": {
    "collapsed": true,
    "scrolled": false
   },
   "outputs": [],
   "source": [
    "weights_path = '~/.keras/models/vgg16_weights_tf_dim_ordering_tf_kernels_notop.h5'\n",
    "layer_list = ['conv1_1', 'conv1_2',\n",
    "              'conv2_1', 'conv2_2',\n",
    "              'conv3_1', 'conv3_2', 'conv3_3',\n",
    "              'conv4_1', 'conv4_2', 'conv4_3',\n",
    "              'conv5_1', 'conv5_2', 'conv5_3',\n",
    "              'fc6', 'fc7',\n",
    "              'conv6_1', 'conv6_2',\n",
    "              'conv7_1', 'conv7_2',\n",
    "              'conv8_1', 'conv8_2',\n",
    "              'conv9_1', 'conv9_2',\n",
    "              ]\n",
    "#load_weights(model, weights_path, layer_list)\n",
    "\n",
    "#weights_path = 'ssd512_voc_weights_fixed.hdf5'\n",
    "#weights_path = './checkpoints/201710242216_sl512_synthtext/weights.003.h5'\n",
    "#weights_path = './checkpoints/201711071436_sl512_synthtext/weights.001.h5'\n",
    "#load_weights(model, weights_path)\n",
    "\n",
    "freeze = ['conv1_1', 'conv1_2',\n",
    "          'conv2_1', 'conv2_2',\n",
    "          'conv3_1', 'conv3_2', 'conv3_3',\n",
    "          #'conv4_1', 'conv4_2', 'conv4_3',\n",
    "          #'conv5_1', 'conv5_2', 'conv5_3',\n",
    "         ]\n",
    "freeze = []"
   ]
  },
  {
   "cell_type": "markdown",
   "metadata": {},
   "source": [
    "### Training"
   ]
  },
  {
   "cell_type": "code",
   "execution_count": 9,
   "metadata": {
    "collapsed": true
   },
   "outputs": [],
   "source": [
    "from data_icdar2015fst import GTUtility\n",
    "#gt_util = GTUtility('data/ICDAR2015_FST/')\n",
    "gt_util_test = GTUtility('data/ICDAR2015_FST/', test=True, polygon=True)"
   ]
  },
  {
   "cell_type": "code",
   "execution_count": null,
   "metadata": {
    "collapsed": true
   },
   "outputs": [],
   "source": [
    "batch_size = 6\n",
    "\n",
    "gen = InputGenerator(gt_util_train, gt_util_test, prior_util, \n",
    "        batch_size, image_size, \n",
    "        saturation_var=0.5,\n",
    "        brightness_var=0.5,\n",
    "        contrast_var=0.5,\n",
    "        lighting_std=0.5,\n",
    "        hflip_prob=0.0,\n",
    "        vflip_prob=0.0,\n",
    "        do_crop=True,\n",
    "        add_noise=True,\n",
    "        crop_area_range=[0.9, 1.0],\n",
    "        aspect_ratio_range=[2/3, 5/3])"
   ]
  },
  {
   "cell_type": "code",
   "execution_count": null,
   "metadata": {
    "scrolled": false
   },
   "outputs": [
    {
     "name": "stdout",
     "output_type": "stream",
     "text": [
      "Epoch 1/1100\n",
      "752/753 [============================>.] - ETA: 0s - loss: 5.8952 - seg_conf_loss: 2.1174 - seg_loc_loss: 3.2909 - link_conf_loss: 0.4869 - seg_precision: 0.2617 - seg_recall: 0.0326 - seg_accuracy: 0.0300 - seg_fmeasure: 0.0508 - link_precision: 0.0252 - link_recall: 0.0013 - link_accuracy: 9.9734e-04 - link_fmeasure: 0.0019\n",
      "new epoch, train True\n",
      "\n",
      "new epoch, train False\n",
      "Epoch 00001: saving model to ./checkpoints/201802170916_sl_icdar+0.005synthtext_dsod_adam_focal_icdar_gamma_2_2.25/weights.001.h5\n",
      "753/753 [==============================] - 511s 679ms/step - loss: 5.8916 - seg_conf_loss: 2.1156 - seg_loc_loss: 3.2897 - link_conf_loss: 0.4863 - seg_precision: 0.2626 - seg_recall: 0.0330 - seg_accuracy: 0.0303 - seg_fmeasure: 0.0513 - link_precision: 0.0252 - link_recall: 0.0013 - link_accuracy: 9.9602e-04 - link_fmeasure: 0.0019 - val_loss: 6.7994 - val_seg_conf_loss: 1.8967 - val_seg_loc_loss: 4.5940 - val_link_conf_loss: 0.3087 - val_seg_precision: 0.1342 - val_seg_recall: 0.0156 - val_seg_accuracy: 0.0282 - val_seg_fmeasure: 0.0265 - val_link_precision: 0.0162 - val_link_recall: 0.0051 - val_link_accuracy: 0.0039 - val_link_fmeasure: 0.0072\n",
      "Epoch 2/1100\n",
      "752/753 [============================>.] - ETA: 0s - loss: 3.9873 - seg_conf_loss: 1.6540 - seg_loc_loss: 2.1080 - link_conf_loss: 0.2252 - seg_precision: 0.4859 - seg_recall: 0.0871 - seg_accuracy: 0.0813 - seg_fmeasure: 0.1321 - link_precision: 0.0778 - link_recall: 0.0073 - link_accuracy: 0.0067 - link_fmeasure: 0.0118\n",
      "new epoch, train True\n",
      "\n",
      "new epoch, train False\n",
      "Epoch 00002: saving model to ./checkpoints/201802170916_sl_icdar+0.005synthtext_dsod_adam_focal_icdar_gamma_2_2.25/weights.002.h5\n",
      "753/753 [==============================] - 480s 637ms/step - loss: 3.9862 - seg_conf_loss: 1.6533 - seg_loc_loss: 2.1078 - link_conf_loss: 0.2251 - seg_precision: 0.4865 - seg_recall: 0.0873 - seg_accuracy: 0.0814 - seg_fmeasure: 0.1323 - link_precision: 0.0777 - link_recall: 0.0073 - link_accuracy: 0.0067 - link_fmeasure: 0.0118 - val_loss: 3.5115 - val_seg_conf_loss: 1.5750 - val_seg_loc_loss: 1.7945 - val_link_conf_loss: 0.1419 - val_seg_precision: 0.5613 - val_seg_recall: 0.1817 - val_seg_accuracy: 0.1632 - val_seg_fmeasure: 0.2436 - val_link_precision: 0.1001 - val_link_recall: 0.0079 - val_link_accuracy: 0.0076 - val_link_fmeasure: 0.0143\n",
      "Epoch 3/1100\n",
      "752/753 [============================>.] - ETA: 0s - loss: 4.0086 - seg_conf_loss: 1.6954 - seg_loc_loss: 2.1016 - link_conf_loss: 0.2116 - seg_precision: 0.4820 - seg_recall: 0.1009 - seg_accuracy: 0.0945 - seg_fmeasure: 0.1510 - link_precision: 0.1062 - link_recall: 0.0107 - link_accuracy: 0.0100 - link_fmeasure: 0.0169\n",
      "new epoch, train True\n",
      "\n",
      "new epoch, train False\n",
      "Epoch 00003: saving model to ./checkpoints/201802170916_sl_icdar+0.005synthtext_dsod_adam_focal_icdar_gamma_2_2.25/weights.003.h5\n",
      "753/753 [==============================] - 480s 638ms/step - loss: 4.0068 - seg_conf_loss: 1.6941 - seg_loc_loss: 2.1012 - link_conf_loss: 0.2114 - seg_precision: 0.4826 - seg_recall: 0.1013 - seg_accuracy: 0.0949 - seg_fmeasure: 0.1515 - link_precision: 0.1061 - link_recall: 0.0107 - link_accuracy: 0.0100 - link_fmeasure: 0.0169 - val_loss: 4.6288 - val_seg_conf_loss: 1.7790 - val_seg_loc_loss: 2.6640 - val_link_conf_loss: 0.1858 - val_seg_precision: 0.1729 - val_seg_recall: 0.1069 - val_seg_accuracy: 0.0708 - val_seg_fmeasure: 0.1188 - val_link_precision: 0.0636 - val_link_recall: 0.0062 - val_link_accuracy: 0.0058 - val_link_fmeasure: 0.0110\n",
      "Epoch 4/1100\n",
      "752/753 [============================>.] - ETA: 0s - loss: 3.3199 - seg_conf_loss: 1.5518 - seg_loc_loss: 1.6062 - link_conf_loss: 0.1618 - seg_precision: 0.5929 - seg_recall: 0.1382 - seg_accuracy: 0.1307 - seg_fmeasure: 0.2032 - link_precision: 0.1249 - link_recall: 0.0096 - link_accuracy: 0.0094 - link_fmeasure: 0.0165\n",
      "new epoch, train True\n",
      "\n",
      "new epoch, train False\n",
      "Epoch 00004: saving model to ./checkpoints/201802170916_sl_icdar+0.005synthtext_dsod_adam_focal_icdar_gamma_2_2.25/weights.004.h5\n",
      "753/753 [==============================] - 480s 638ms/step - loss: 3.3213 - seg_conf_loss: 1.5532 - seg_loc_loss: 1.6063 - link_conf_loss: 0.1618 - seg_precision: 0.5921 - seg_recall: 0.1380 - seg_accuracy: 0.1305 - seg_fmeasure: 0.2029 - link_precision: 0.1247 - link_recall: 0.0096 - link_accuracy: 0.0094 - link_fmeasure: 0.0165 - val_loss: 3.6222 - val_seg_conf_loss: 1.7361 - val_seg_loc_loss: 1.7355 - val_link_conf_loss: 0.1506 - val_seg_precision: 0.5973 - val_seg_recall: 0.2193 - val_seg_accuracy: 0.1955 - val_seg_fmeasure: 0.2927 - val_link_precision: 0.1100 - val_link_recall: 0.0164 - val_link_accuracy: 0.0132 - val_link_fmeasure: 0.0236\n",
      "Epoch 5/1100\n",
      "752/753 [============================>.] - ETA: 0s - loss: 3.5126 - seg_conf_loss: 1.6017 - seg_loc_loss: 1.7380 - link_conf_loss: 0.1730 - seg_precision: 0.5687 - seg_recall: 0.1329 - seg_accuracy: 0.1250 - seg_fmeasure: 0.1960 - link_precision: 0.1427 - link_recall: 0.0132 - link_accuracy: 0.0125 - link_fmeasure: 0.0214\n",
      "new epoch, train True\n",
      "\n",
      "new epoch, train False\n",
      "Epoch 00005: saving model to ./checkpoints/201802170916_sl_icdar+0.005synthtext_dsod_adam_focal_icdar_gamma_2_2.25/weights.005.h5\n",
      "753/753 [==============================] - 480s 638ms/step - loss: 3.5115 - seg_conf_loss: 1.6006 - seg_loc_loss: 1.7380 - link_conf_loss: 0.1729 - seg_precision: 0.5693 - seg_recall: 0.1328 - seg_accuracy: 0.1250 - seg_fmeasure: 0.1959 - link_precision: 0.1425 - link_recall: 0.0132 - link_accuracy: 0.0125 - link_fmeasure: 0.0214 - val_loss: 3.2659 - val_seg_conf_loss: 1.5176 - val_seg_loc_loss: 1.6411 - val_link_conf_loss: 0.1073 - val_seg_precision: 0.6698 - val_seg_recall: 0.1985 - val_seg_accuracy: 0.1874 - val_seg_fmeasure: 0.2749 - val_link_precision: 0.1472 - val_link_recall: 0.0211 - val_link_accuracy: 0.0205 - val_link_fmeasure: 0.0334\n",
      "Epoch 6/1100\n",
      "752/753 [============================>.] - ETA: 0s - loss: 3.1727 - seg_conf_loss: 1.5930 - seg_loc_loss: 1.4313 - link_conf_loss: 0.1484 - seg_precision: 0.6268 - seg_recall: 0.1654 - seg_accuracy: 0.1575 - seg_fmeasure: 0.2382 - link_precision: 0.1767 - link_recall: 0.0195 - link_accuracy: 0.0187 - link_fmeasure: 0.0298\n",
      "new epoch, train True\n",
      "\n",
      "new epoch, train False\n",
      "Epoch 00006: saving model to ./checkpoints/201802170916_sl_icdar+0.005synthtext_dsod_adam_focal_icdar_gamma_2_2.25/weights.006.h5\n",
      "753/753 [==============================] - 480s 638ms/step - loss: 3.1733 - seg_conf_loss: 1.5940 - seg_loc_loss: 1.4309 - link_conf_loss: 0.1484 - seg_precision: 0.6260 - seg_recall: 0.1652 - seg_accuracy: 0.1573 - seg_fmeasure: 0.2378 - link_precision: 0.1765 - link_recall: 0.0194 - link_accuracy: 0.0187 - link_fmeasure: 0.0297 - val_loss: 3.3219 - val_seg_conf_loss: 1.5730 - val_seg_loc_loss: 1.5864 - val_link_conf_loss: 0.1625 - val_seg_precision: 0.5730 - val_seg_recall: 0.2080 - val_seg_accuracy: 0.1847 - val_seg_fmeasure: 0.2774 - val_link_precision: 0.0441 - val_link_recall: 0.0496 - val_link_accuracy: 0.0134 - val_link_fmeasure: 0.0238\n",
      "Epoch 7/1100\n",
      "752/753 [============================>.] - ETA: 0s - loss: 2.8348 - seg_conf_loss: 1.3402 - seg_loc_loss: 1.3561 - link_conf_loss: 0.1385 - seg_precision: 0.6843 - seg_recall: 0.2178 - seg_accuracy: 0.2056 - seg_fmeasure: 0.3005 - link_precision: 0.2092 - link_recall: 0.0260 - link_accuracy: 0.0253 - link_fmeasure: 0.0405\n",
      "new epoch, train True\n",
      "\n",
      "new epoch, train False\n",
      "Epoch 00007: saving model to ./checkpoints/201802170916_sl_icdar+0.005synthtext_dsod_adam_focal_icdar_gamma_2_2.25/weights.007.h5\n",
      "753/753 [==============================] - 480s 637ms/step - loss: 2.8336 - seg_conf_loss: 1.3389 - seg_loc_loss: 1.3563 - link_conf_loss: 0.1385 - seg_precision: 0.6845 - seg_recall: 0.2184 - seg_accuracy: 0.2062 - seg_fmeasure: 0.3012 - link_precision: 0.2089 - link_recall: 0.0259 - link_accuracy: 0.0253 - link_fmeasure: 0.0404 - val_loss: 2.4049 - val_seg_conf_loss: 0.5786 - val_seg_loc_loss: 1.6680 - val_link_conf_loss: 0.1582 - val_seg_precision: 0.6562 - val_seg_recall: 0.4346 - val_seg_accuracy: 0.3579 - val_seg_fmeasure: 0.4953 - val_link_precision: 0.1206 - val_link_recall: 0.0282 - val_link_accuracy: 0.0234 - val_link_fmeasure: 0.0409\n",
      "Epoch 8/1100\n",
      "752/753 [============================>.] - ETA: 0s - loss: 1.8870 - seg_conf_loss: 0.4125 - seg_loc_loss: 1.3407 - link_conf_loss: 0.1338 - seg_precision: 0.7662 - seg_recall: 0.2672 - seg_accuracy: 0.2505 - seg_fmeasure: 0.3652 - link_precision: 0.2427 - link_recall: 0.0256 - link_accuracy: 0.0250 - link_fmeasure: 0.0414\n",
      "new epoch, train True\n",
      "\n",
      "new epoch, train False\n",
      "Epoch 00008: saving model to ./checkpoints/201802170916_sl_icdar+0.005synthtext_dsod_adam_focal_icdar_gamma_2_2.25/weights.008.h5\n",
      "753/753 [==============================] - 480s 638ms/step - loss: 1.8867 - seg_conf_loss: 0.4125 - seg_loc_loss: 1.3404 - link_conf_loss: 0.1338 - seg_precision: 0.7665 - seg_recall: 0.2671 - seg_accuracy: 0.2505 - seg_fmeasure: 0.3652 - link_precision: 0.2424 - link_recall: 0.0255 - link_accuracy: 0.0250 - link_fmeasure: 0.0414 - val_loss: 1.7228 - val_seg_conf_loss: 0.2475 - val_seg_loc_loss: 1.3817 - val_link_conf_loss: 0.0936 - val_seg_precision: 0.8051 - val_seg_recall: 0.4369 - val_seg_accuracy: 0.3921 - val_seg_fmeasure: 0.5417 - val_link_precision: 0.3240 - val_link_recall: 0.0909 - val_link_accuracy: 0.0837 - val_link_fmeasure: 0.1219\n",
      "Epoch 9/1100\n",
      "752/753 [============================>.] - ETA: 0s - loss: 1.6949 - seg_conf_loss: 0.3153 - seg_loc_loss: 1.2527 - link_conf_loss: 0.1269 - seg_precision: 0.8644 - seg_recall: 0.3274 - seg_accuracy: 0.3112 - seg_fmeasure: 0.4404 - link_precision: 0.2992 - link_recall: 0.0436 - link_accuracy: 0.0425 - link_fmeasure: 0.0673\n",
      "new epoch, train True\n",
      "\n",
      "new epoch, train False\n",
      "Epoch 00009: saving model to ./checkpoints/201802170916_sl_icdar+0.005synthtext_dsod_adam_focal_icdar_gamma_2_2.25/weights.009.h5\n",
      "753/753 [==============================] - 480s 638ms/step - loss: 1.6951 - seg_conf_loss: 0.3152 - seg_loc_loss: 1.2530 - link_conf_loss: 0.1269 - seg_precision: 0.8642 - seg_recall: 0.3272 - seg_accuracy: 0.3110 - seg_fmeasure: 0.4403 - link_precision: 0.2988 - link_recall: 0.0435 - link_accuracy: 0.0424 - link_fmeasure: 0.0672 - val_loss: 1.6820 - val_seg_conf_loss: 0.2644 - val_seg_loc_loss: 1.3212 - val_link_conf_loss: 0.0964 - val_seg_precision: 0.7513 - val_seg_recall: 0.3524 - val_seg_accuracy: 0.3134 - val_seg_fmeasure: 0.4384 - val_link_precision: 0.3300 - val_link_recall: 0.0985 - val_link_accuracy: 0.0947 - val_link_fmeasure: 0.1332\n",
      "Epoch 10/1100\n",
      "752/753 [============================>.] - ETA: 0s - loss: 1.5765 - seg_conf_loss: 0.2863 - seg_loc_loss: 1.1717 - link_conf_loss: 0.1185 - seg_precision: 0.8912 - seg_recall: 0.3792 - seg_accuracy: 0.3622 - seg_fmeasure: 0.4998 - link_precision: 0.3596 - link_recall: 0.0556 - link_accuracy: 0.0545 - link_fmeasure: 0.0846\n",
      "new epoch, train True\n",
      "\n",
      "new epoch, train False\n",
      "Epoch 00010: saving model to ./checkpoints/201802170916_sl_icdar+0.005synthtext_dsod_adam_focal_icdar_gamma_2_2.25/weights.010.h5\n",
      "753/753 [==============================] - 480s 638ms/step - loss: 1.5759 - seg_conf_loss: 0.2862 - seg_loc_loss: 1.1712 - link_conf_loss: 0.1185 - seg_precision: 0.8909 - seg_recall: 0.3793 - seg_accuracy: 0.3622 - seg_fmeasure: 0.4998 - link_precision: 0.3591 - link_recall: 0.0556 - link_accuracy: 0.0544 - link_fmeasure: 0.0845 - val_loss: 2.0131 - val_seg_conf_loss: 0.2838 - val_seg_loc_loss: 1.6066 - val_link_conf_loss: 0.1227 - val_seg_precision: 0.7431 - val_seg_recall: 0.4781 - val_seg_accuracy: 0.4189 - val_seg_fmeasure: 0.5568 - val_link_precision: 0.3519 - val_link_recall: 0.1425 - val_link_accuracy: 0.1218 - val_link_fmeasure: 0.1759\n",
      "Epoch 11/1100\n",
      "752/753 [============================>.] - ETA: 0s - loss: 1.6654 - seg_conf_loss: 0.3078 - seg_loc_loss: 1.2328 - link_conf_loss: 0.1249 - seg_precision: 0.8696 - seg_recall: 0.3605 - seg_accuracy: 0.3423 - seg_fmeasure: 0.4738 - link_precision: 0.3081 - link_recall: 0.0483 - link_accuracy: 0.0473 - link_fmeasure: 0.0746\n",
      "new epoch, train True\n",
      "\n",
      "new epoch, train False\n",
      "Epoch 00011: saving model to ./checkpoints/201802170916_sl_icdar+0.005synthtext_dsod_adam_focal_icdar_gamma_2_2.25/weights.011.h5\n",
      "753/753 [==============================] - 481s 638ms/step - loss: 1.6650 - seg_conf_loss: 0.3077 - seg_loc_loss: 1.2324 - link_conf_loss: 0.1248 - seg_precision: 0.8697 - seg_recall: 0.3605 - seg_accuracy: 0.3424 - seg_fmeasure: 0.4739 - link_precision: 0.3090 - link_recall: 0.0483 - link_accuracy: 0.0473 - link_fmeasure: 0.0745 - val_loss: 4.0239 - val_seg_conf_loss: 0.4567 - val_seg_loc_loss: 3.4144 - val_link_conf_loss: 0.1529 - val_seg_precision: 0.7807 - val_seg_recall: 0.3788 - val_seg_accuracy: 0.3505 - val_seg_fmeasure: 0.4797 - val_link_precision: 0.2399 - val_link_recall: 0.0328 - val_link_accuracy: 0.0321 - val_link_fmeasure: 0.0559\n",
      "Epoch 12/1100\n",
      "615/753 [=======================>......] - ETA: 1:26 - loss: 1.5363 - seg_conf_loss: 0.2879 - seg_loc_loss: 1.1296 - link_conf_loss: 0.1188 - seg_precision: 0.8957 - seg_recall: 0.4154 - seg_accuracy: 0.3967 - seg_fmeasure: 0.5343 - link_precision: 0.3869 - link_recall: 0.0674 - link_accuracy: 0.0664 - link_fmeasure: 0.1030"
     ]
    }
   ],
   "source": [
    "#epochs = 6\n",
    "#epochs = 40\n",
    "epochs = 1100\n",
    "initial_epoch = 0\n",
    "#initial_epoch = 6\n",
    "#batch_size = 24\n",
    "#batch_size = 6\n",
    "\n",
    "#experiment = 'sl512_synthtext'\n",
    "#experiment = 'dsodsl512_synthtext'\n",
    "#experiment = 'sl_synthtext_ssd_sgd'\n",
    "experiment = 'sl_synthtext_dsod_adam_focal'\n",
    "experiment = 'sl_icdar+0.005synthtext_dsod_adam_focal_icdar'\n",
    "experiment = 'sl_icdar+0.005synthtext_dsod_adam_focal_icdar_leaky_noweightdecay'\n",
    "experiment = 'sl_icdar+0.005synthtext_dsod_adam_focal_icdar_leaky'\n",
    "experiment = 'sl_icdar+0.005synthtext_dsod_adam_focal_icdar_augmentedval'\n",
    "experiment = 'sl_icdar+0.005synthtext_dsod_adam_focal_icdar_inputscale_0_10'\n",
    "experiment = 'sl_icdar+0.005synthtext_dsod_adam_focal_icdar_lambda_1_1_1'\n",
    "experiment = 'sl_icdar+0.005synthtext_dsod_adam_focal_icdar_gamma_3_3'\n",
    "experiment = 'sl_icdar+0.005synthtext_dsod_adam_focal_icdar_gamma_1.5_1.5'\n",
    "experiment = 'sl_icdar+0.005synthtext_dsod_adam_focal_icdar_gamma_2_2.25'\n",
    "\n",
    "#gen = InputGenerator(gt_util_train, gt_util_val, prior_util, batch_size, image_size)\n",
    "\n",
    "for layer in model.layers:\n",
    "    layer.trainable = not layer.name in freeze\n",
    "\n",
    "checkdir = './checkpoints/' + time.strftime('%Y%m%d%H%M') + '_' + experiment\n",
    "if not os.path.exists(checkdir):\n",
    "    os.makedirs(checkdir)\n",
    "\n",
    "with open(checkdir+'/source.py','wb') as f:\n",
    "    source = ''.join(['# In[%i]\\n%s\\n\\n' % (i, In[i]) for i in range(len(In))])\n",
    "    f.write(source.encode())\n",
    "\n",
    "optim = keras.optimizers.Adam(lr=1e-3, beta_1=0.9, beta_2=0.999, epsilon=0.001, decay=0.0)\n",
    "#optim = keras.optimizers.SGD(lr=1e-3, momentum=0.9, decay=0, nesterov=True)\n",
    "\n",
    "# weight decay\n",
    "regularizer = keras.regularizers.l2(5e-4) # None if disabled\n",
    "#regularizer = None\n",
    "for l in model.layers:\n",
    "    if l.__class__.__name__.startswith('Conv'):\n",
    "        l.kernel_regularizer = regularizer\n",
    "\n",
    "#loss = SegLinkLoss(lambda_offsets=1.0, lambda_links=1.0, neg_pos_ratio=3.0)\n",
    "#loss = SegLinkFocalLoss()\n",
    "#loss = SegLinkFocalLoss(lambda_segments=1.0, lambda_offsets=1.0, lambda_links=1.0)\n",
    "#loss = SegLinkFocalLoss(gamma_segments=3, gamma_links=3)\n",
    "#loss = SegLinkFocalLoss(gamma_segments=1.5, gamma_links=1.5)\n",
    "loss = SegLinkFocalLoss(gamma_segments=2, gamma_links=2.25)\n",
    "\n",
    "model.compile(optimizer=optim,\n",
    "              loss=loss.compute,\n",
    "              metrics=loss.metrics)\n",
    "\n",
    "callbacks = [keras.callbacks.ModelCheckpoint(checkdir+'/weights.{epoch:03d}.h5',\n",
    "                                             verbose=1, save_weights_only=True),\n",
    "             Logger(checkdir),\n",
    "             #LearningRateDecay()\n",
    "            ]\n",
    "\n",
    "history = model.fit_generator(\n",
    "        #gen.generate(train=True, augmentation=False), #generator, \n",
    "        gen.generate(train=True, augmentation=True), #generator, \n",
    "        gen.num_train_batches, \n",
    "        epochs=epochs, \n",
    "        verbose=1, \n",
    "        callbacks=callbacks, \n",
    "        validation_data=gen.generate(train=False, augmentation=False), \n",
    "        validation_steps=gen.num_val_batches, \n",
    "        class_weight=None,\n",
    "        max_queue_size=1, \n",
    "        workers=1, \n",
    "        #use_multiprocessing=False, \n",
    "        initial_epoch=initial_epoch, \n",
    "        #pickle_safe=False, # will use threading instead of multiprocessing, which is lighter on memory use but slower\n",
    "        )"
   ]
  },
  {
   "cell_type": "code",
   "execution_count": null,
   "metadata": {
    "collapsed": true
   },
   "outputs": [],
   "source": []
  },
  {
   "cell_type": "markdown",
   "metadata": {
    "collapsed": true
   },
   "source": [
    "### Predictions"
   ]
  },
  {
   "cell_type": "code",
   "execution_count": null,
   "metadata": {
    "collapsed": true
   },
   "outputs": [],
   "source": [
    "#weights_path = './checkpoints/201801051327_sl_synthtext_ssd_sgd/weights.004.h5'\n",
    "#weights_path = './checkpoints/201801101147_sl_synthtext_dsod_adam_focal/weights.002.h5'\n",
    "#weights_path = './checkpoints/201801121425_sl_synthtext_dsod_adam_focal/weights.004.h5'\n",
    "weights_path = './checkpoints/201801142030_sl_synthtext_dsod_adam_focal/weights.006.h5'\n",
    "load_weights(model, weights_path)\n",
    "checkdir = os.path.split(weights_path)[0]"
   ]
  },
  {
   "cell_type": "code",
   "execution_count": null,
   "metadata": {
    "collapsed": true
   },
   "outputs": [],
   "source": [
    "inputs = []\n",
    "images = []\n",
    "data = []\n",
    "\n",
    "gtu = gt_util_train\n",
    "gtu = gt_util_val\n",
    "gtu = gt_util_test\n",
    "\n",
    "np.random.seed(1337)\n",
    "\n",
    "for i in np.random.randint(0, gtu.num_samples, 16):\n",
    "\n",
    "    img_path = os.path.join(gtu.image_path, gtu.image_names[i])\n",
    "    img = cv2.imread(img_path)\n",
    "    \n",
    "    inputs.append(preprocess(img, image_size))\n",
    "    \n",
    "    h, w = image_size\n",
    "    img = cv2.resize(img, (w,h), cv2.INTER_LINEAR).astype('float32')\n",
    "    img = img[:, :, (2,1,0)] # BGR to RGB\n",
    "    img /= 255\n",
    "    images.append(img)\n",
    "    \n",
    "    boxes = gtu.data[i]\n",
    "    data.append(boxes)\n",
    "    \n",
    "inputs = np.asarray(inputs)\n",
    "\n",
    "preds = model.predict(inputs, batch_size=1, verbose=1)"
   ]
  },
  {
   "cell_type": "code",
   "execution_count": null,
   "metadata": {
    "collapsed": true,
    "scrolled": false
   },
   "outputs": [],
   "source": [
    "for fl in glob.glob('%s/result_*' % (checkdir,)):\n",
    "    #os.remove(fl)\n",
    "    pass\n",
    "\n",
    "for i in range(len(preds)):\n",
    "    plt.figure()#figsize=[20]*2)\n",
    "    plt.imshow(images[i])\n",
    "    #res = prior_util.decode(preds[i], segment_threshold=0.55, link_threshold=0.35, debug=False)\n",
    "    #res = prior_util.decode(preds[i], segment_threshold=0.6, link_threshold=0.45, debug=False) # with DSOD body\n",
    "    res = prior_util.decode(preds[i], segment_threshold=0.6, link_threshold=0.4, debug=False) # with DSOD body\n",
    "    #res = prior_util.decode(preds[i], segment_threshold=0.75, link_threshold=0.5, debug=False) # with SSD body\n",
    "    prior_util.encode(data[i])\n",
    "    prior_util.plot_gt()\n",
    "    prior_util.plot_results(res)\n",
    "    #plt.savefig('%s/result_%03d.jpg' % (checkdir, i))\n",
    "    plt.show()"
   ]
  },
  {
   "cell_type": "code",
   "execution_count": null,
   "metadata": {
    "collapsed": true
   },
   "outputs": [],
   "source": []
  },
  {
   "cell_type": "code",
   "execution_count": null,
   "metadata": {
    "collapsed": true
   },
   "outputs": [],
   "source": []
  },
  {
   "cell_type": "code",
   "execution_count": null,
   "metadata": {
    "collapsed": true
   },
   "outputs": [],
   "source": []
  },
  {
   "cell_type": "code",
   "execution_count": null,
   "metadata": {
    "collapsed": true
   },
   "outputs": [],
   "source": []
  },
  {
   "cell_type": "code",
   "execution_count": null,
   "metadata": {
    "collapsed": true,
    "scrolled": false
   },
   "outputs": [],
   "source": [
    "for i in range(len(preds)):\n",
    "    plt.figure(figsize=[20]*2)\n",
    "    plt.imshow(images[i])\n",
    "    encgt = prior_util.encode(data[i])\n",
    "    prior_util.plot_gt()\n",
    "    prior_util.plot_local_evaluation(encgt, preds[i], segment_threshold=0.6, link_threshold=0.45)\n",
    "    plt.show()"
   ]
  },
  {
   "cell_type": "code",
   "execution_count": null,
   "metadata": {
    "collapsed": true
   },
   "outputs": [],
   "source": []
  },
  {
   "cell_type": "code",
   "execution_count": null,
   "metadata": {
    "collapsed": true,
    "scrolled": false
   },
   "outputs": [],
   "source": [
    "for i in range(2): #range(len(preds)):\n",
    "    plt.figure()\n",
    "    plt.imshow(images[i])\n",
    "    res = prior_util.decode(preds[i], segment_threshold=0.6, link_threshold=0.45, debug=False)\n",
    "    prior_util.encode(data[i])\n",
    "    prior_util.plot_gt()\n",
    "    for j in range(prior_util.num_maps):\n",
    "        prior_util.plot_assignement(j)\n",
    "    prior_util.plot_results(res)\n",
    "    plt.show()"
   ]
  },
  {
   "cell_type": "code",
   "execution_count": null,
   "metadata": {
    "collapsed": true
   },
   "outputs": [],
   "source": []
  },
  {
   "cell_type": "code",
   "execution_count": null,
   "metadata": {
    "collapsed": true
   },
   "outputs": [],
   "source": []
  },
  {
   "cell_type": "code",
   "execution_count": null,
   "metadata": {
    "collapsed": true
   },
   "outputs": [],
   "source": []
  },
  {
   "cell_type": "code",
   "execution_count": null,
   "metadata": {
    "collapsed": true
   },
   "outputs": [],
   "source": []
  },
  {
   "cell_type": "markdown",
   "metadata": {},
   "source": [
    "### grid search, copy from SL_evaluate"
   ]
  },
  {
   "cell_type": "code",
   "execution_count": null,
   "metadata": {
    "collapsed": true
   },
   "outputs": [],
   "source": [
    "from data_icdar2015ist import GTUtility\n",
    "gt_util_test = GTUtility('data/ICDAR2015_IST/', test=True)"
   ]
  },
  {
   "cell_type": "code",
   "execution_count": null,
   "metadata": {
    "collapsed": true
   },
   "outputs": [],
   "source": [
    "from data_icdar2015fst import GTUtility\n",
    "#gt_util = GTUtility('data/ICDAR2015_FST/')\n",
    "gt_util_test = GTUtility('data/ICDAR2015_FST/', test=True, polygon=True)"
   ]
  },
  {
   "cell_type": "code",
   "execution_count": 12,
   "metadata": {},
   "outputs": [
    {
     "name": "stdout",
     "output_type": "stream",
     "text": [
      "233/233 [==============================] - 12s 52ms/step\n"
     ]
    }
   ],
   "source": [
    "inputs = []\n",
    "images = []\n",
    "data = []\n",
    "\n",
    "gtu = gt_util_train\n",
    "gtu = gt_util_val\n",
    "gtu = gt_util_test\n",
    "\n",
    "np.random.seed(1337)\n",
    "\n",
    "#for i in np.random.randint(0, gtu.num_samples, 512):\n",
    "for i in range(gtu.num_samples):\n",
    "\n",
    "    img_path = os.path.join(gtu.image_path, gtu.image_names[i])\n",
    "    img = cv2.imread(img_path)\n",
    "    \n",
    "    inputs.append(preprocess(img, image_size))\n",
    "    \n",
    "    h, w = image_size\n",
    "    img = cv2.resize(img, (w,h), cv2.INTER_LINEAR).astype('float32') # should we do resizing\n",
    "    img = img[:, :, (2,1,0)] # BGR to RGB\n",
    "    img /= 255\n",
    "    images.append(img)\n",
    "    \n",
    "    boxes = gtu.data[i]\n",
    "    data.append(boxes)\n",
    "    \n",
    "inputs = np.asarray(inputs)\n",
    "\n",
    "preds = model.predict(inputs, batch_size=1, verbose=1)"
   ]
  },
  {
   "cell_type": "code",
   "execution_count": 13,
   "metadata": {
    "scrolled": false
   },
   "outputs": [
    {
     "name": "stdout",
     "output_type": "stream",
     "text": [
      "segment_threshold 0.10 link_threshold 0.10 f-measure 0.21\n",
      "segment_threshold 0.10 link_threshold 0.20 f-measure 0.12\n",
      "segment_threshold 0.10 link_threshold 0.30 f-measure 0.09\n",
      "segment_threshold 0.10 link_threshold 0.40 f-measure 0.08\n",
      "segment_threshold 0.10 link_threshold 0.50 f-measure 0.07\n",
      "segment_threshold 0.10 link_threshold 0.60 f-measure 0.06\n",
      "segment_threshold 0.10 link_threshold 0.70 f-measure 0.06\n",
      "segment_threshold 0.10 link_threshold 0.80 f-measure 0.05\n",
      "segment_threshold 0.10 link_threshold 0.90 f-measure 0.03\n",
      "segment_threshold 0.20 link_threshold 0.10 f-measure 0.37\n",
      "segment_threshold 0.20 link_threshold 0.20 f-measure 0.42\n",
      "segment_threshold 0.20 link_threshold 0.30 f-measure 0.27\n",
      "segment_threshold 0.20 link_threshold 0.40 f-measure 0.18\n",
      "segment_threshold 0.20 link_threshold 0.50 f-measure 0.14\n",
      "segment_threshold 0.20 link_threshold 0.60 f-measure 0.12\n",
      "segment_threshold 0.20 link_threshold 0.70 f-measure 0.10\n",
      "segment_threshold 0.20 link_threshold 0.80 f-measure 0.08\n",
      "segment_threshold 0.20 link_threshold 0.90 f-measure 0.05\n",
      "segment_threshold 0.30 link_threshold 0.10 f-measure 0.44\n",
      "segment_threshold 0.30 link_threshold 0.20 f-measure 0.51\n",
      "segment_threshold 0.30 link_threshold 0.30 f-measure 0.50\n",
      "segment_threshold 0.30 link_threshold 0.40 f-measure 0.35\n",
      "segment_threshold 0.30 link_threshold 0.50 f-measure 0.24\n",
      "segment_threshold 0.30 link_threshold 0.60 f-measure 0.18\n",
      "segment_threshold 0.30 link_threshold 0.70 f-measure 0.14\n",
      "segment_threshold 0.30 link_threshold 0.80 f-measure 0.11\n",
      "segment_threshold 0.30 link_threshold 0.90 f-measure 0.07\n",
      "segment_threshold 0.40 link_threshold 0.10 f-measure 0.48\n",
      "segment_threshold 0.40 link_threshold 0.20 f-measure 0.56\n",
      "segment_threshold 0.40 link_threshold 0.30 f-measure 0.58\n",
      "segment_threshold 0.40 link_threshold 0.40 f-measure 0.55\n",
      "segment_threshold 0.40 link_threshold 0.50 f-measure 0.40\n",
      "segment_threshold 0.40 link_threshold 0.60 f-measure 0.26\n",
      "segment_threshold 0.40 link_threshold 0.70 f-measure 0.20\n",
      "segment_threshold 0.40 link_threshold 0.80 f-measure 0.14\n",
      "segment_threshold 0.40 link_threshold 0.90 f-measure 0.08\n",
      "segment_threshold 0.50 link_threshold 0.10 f-measure 0.53\n",
      "segment_threshold 0.50 link_threshold 0.20 f-measure 0.61\n",
      "segment_threshold 0.50 link_threshold 0.30 f-measure 0.62\n",
      "segment_threshold 0.50 link_threshold 0.40 f-measure 0.62\n",
      "segment_threshold 0.50 link_threshold 0.50 f-measure 0.60\n",
      "segment_threshold 0.50 link_threshold 0.60 f-measure 0.43\n",
      "segment_threshold 0.50 link_threshold 0.70 f-measure 0.28\n",
      "segment_threshold 0.50 link_threshold 0.80 f-measure 0.19\n",
      "segment_threshold 0.50 link_threshold 0.90 f-measure 0.10\n",
      "segment_threshold 0.60 link_threshold 0.10 f-measure 0.56\n",
      "segment_threshold 0.60 link_threshold 0.20 f-measure 0.63\n",
      "segment_threshold 0.60 link_threshold 0.30 f-measure 0.65\n",
      "segment_threshold 0.60 link_threshold 0.40 f-measure 0.65\n",
      "segment_threshold 0.60 link_threshold 0.50 f-measure 0.64\n",
      "segment_threshold 0.60 link_threshold 0.60 f-measure 0.62\n",
      "segment_threshold 0.60 link_threshold 0.70 f-measure 0.42\n",
      "segment_threshold 0.60 link_threshold 0.80 f-measure 0.25\n",
      "segment_threshold 0.60 link_threshold 0.90 f-measure 0.12\n",
      "segment_threshold 0.70 link_threshold 0.10 f-measure 0.58\n",
      "segment_threshold 0.70 link_threshold 0.20 f-measure 0.63\n",
      "segment_threshold 0.70 link_threshold 0.30 f-measure 0.64\n",
      "segment_threshold 0.70 link_threshold 0.40 f-measure 0.64\n",
      "segment_threshold 0.70 link_threshold 0.50 f-measure 0.64\n",
      "segment_threshold 0.70 link_threshold 0.60 f-measure 0.64\n",
      "segment_threshold 0.70 link_threshold 0.70 f-measure 0.61\n",
      "segment_threshold 0.70 link_threshold 0.80 f-measure 0.36\n",
      "segment_threshold 0.70 link_threshold 0.90 f-measure 0.14\n",
      "segment_threshold 0.80 link_threshold 0.10 f-measure 0.56\n",
      "segment_threshold 0.80 link_threshold 0.20 f-measure 0.59\n",
      "segment_threshold 0.80 link_threshold 0.30 f-measure 0.60\n",
      "segment_threshold 0.80 link_threshold 0.40 f-measure 0.60\n",
      "segment_threshold 0.80 link_threshold 0.50 f-measure 0.60\n",
      "segment_threshold 0.80 link_threshold 0.60 f-measure 0.61\n",
      "segment_threshold 0.80 link_threshold 0.70 f-measure 0.61\n",
      "segment_threshold 0.80 link_threshold 0.80 f-measure 0.56\n",
      "segment_threshold 0.80 link_threshold 0.90 f-measure 0.19\n",
      "segment_threshold 0.90 link_threshold 0.10 f-measure 0.47\n",
      "segment_threshold 0.90 link_threshold 0.20 f-measure 0.48\n",
      "segment_threshold 0.90 link_threshold 0.30 f-measure 0.48\n",
      "segment_threshold 0.90 link_threshold 0.40 f-measure 0.48\n",
      "segment_threshold 0.90 link_threshold 0.50 f-measure 0.48\n",
      "segment_threshold 0.90 link_threshold 0.60 f-measure 0.48\n",
      "segment_threshold 0.90 link_threshold 0.70 f-measure 0.48\n",
      "segment_threshold 0.90 link_threshold 0.80 f-measure 0.48\n",
      "segment_threshold 0.90 link_threshold 0.90 f-measure 0.25\n",
      "[[0.20899199 0.12007661 0.09263478 0.0790383  0.07125275 0.06454679 0.05813308 0.04935518 0.03346624]\n",
      " [0.37414722 0.41554559 0.26914968 0.18090452 0.14226458 0.1188045  0.10112063 0.08165203 0.05170851]\n",
      " [0.43807149 0.5148289  0.49982883 0.35102975 0.23568117 0.1781997  0.14296607 0.11023493 0.06576237]\n",
      " [0.4821024  0.55800169 0.57525355 0.55272999 0.39617274 0.26430801 0.19564927 0.14282599 0.08051268]\n",
      " [0.52570879 0.60515604 0.62065934 0.61953728 0.60146699 0.42795264 0.27842136 0.18706527 0.09673323]\n",
      " [0.55979899 0.6278286  0.6461684  0.64672897 0.64453665 0.62129145 0.42396313 0.25077081 0.11670852]\n",
      " [0.57686212 0.62512873 0.64231355 0.64350453 0.64092277 0.63789683 0.60828625 0.35744942 0.14349601]\n",
      " [0.55747126 0.59355568 0.60089686 0.60413177 0.60345789 0.60589216 0.60596026 0.55835476 0.18512397]\n",
      " [0.46865104 0.47919294 0.47919294 0.47919294 0.47919294 0.48141147 0.48141147 0.47828823 0.25456292]]\n",
      "0.6467289719126441\n"
     ]
    }
   ],
   "source": [
    "from sl_metric import evaluate_results, fscore\n",
    "\n",
    "steps_seg = np.arange(0.1, 1, 0.1)\n",
    "steps_lnk = np.arange(0.1, 1, 0.1)\n",
    "\n",
    "#steps_seg = np.arange(0.5, 0.7, 0.02)\n",
    "#steps_lnk = np.arange(0.3, 0.6, 0.02)\n",
    "# --> segment_threshold 0.59 link_threshold 0.47\n",
    "\n",
    "fmes_grid = np.zeros((len(steps_seg),len(steps_lnk)))\n",
    "\n",
    "for i, segment_threshold in enumerate(steps_seg):\n",
    "    for j, link_threshold in enumerate(steps_lnk):\n",
    "        results = [prior_util.decode(p, segment_threshold=segment_threshold, link_threshold=link_threshold) for p in preds]\n",
    "        TP, FP, FN = evaluate_results(data, results)\n",
    "        recall = TP / (TP+FN)\n",
    "        precision = TP / (TP+FP)\n",
    "        fmes = fscore(precision, recall)\n",
    "        fmes_grid[i,j] = fmes\n",
    "        print('segment_threshold %.2f link_threshold %.2f f-measure %.2f' % (segment_threshold, link_threshold, fmes))\n",
    "        \n",
    "print(fmes_grid)\n",
    "print(np.max(fmes_grid))"
   ]
  },
  {
   "cell_type": "code",
   "execution_count": 14,
   "metadata": {},
   "outputs": [
    {
     "data": {
      "image/png": "[encoded data removed]",
      "text/plain": [
       "<matplotlib.figure.Figure at 0x7fba94e65358>"
      ]
     },
     "metadata": {},
     "output_type": "display_data"
    }
   ],
   "source": [
    "plt.imshow(fmes_grid, cmap='jet', interpolation='bicubic')# nearest, bicubic\n",
    "plt.title('f-measure')\n",
    "plt.xticks(range(len(steps_lnk)), steps_lnk)\n",
    "plt.yticks(range(len(steps_seg)), steps_seg)\n",
    "plt.xlabel('link_threshold')\n",
    "plt.ylabel('segment_threshold')\n",
    "plt.grid()\n",
    "plt.show()"
   ]
  },
  {
   "cell_type": "code",
   "execution_count": null,
   "metadata": {
    "collapsed": true
   },
   "outputs": [],
   "source": []
  },
  {
   "cell_type": "code",
   "execution_count": null,
   "metadata": {
    "collapsed": true
   },
   "outputs": [],
   "source": []
  },
  {
   "cell_type": "code",
   "execution_count": null,
   "metadata": {
    "collapsed": true
   },
   "outputs": [],
   "source": []
  },
  {
   "cell_type": "code",
   "execution_count": null,
   "metadata": {
    "collapsed": true
   },
   "outputs": [],
   "source": []
  },
  {
   "cell_type": "code",
   "execution_count": null,
   "metadata": {
    "collapsed": true
   },
   "outputs": [],
   "source": [
    "\n",
    "class InputGenerator(object):\n",
    "    # flag to protect bounding boxes from cropping?\n",
    "    def __init__(self, \n",
    "                gt_util_train, gt_util_val, prior_util,\n",
    "                batch_size, input_size,\n",
    "                saturation_var=0.5,\n",
    "                brightness_var=0.5,\n",
    "                contrast_var=0.5,\n",
    "                lighting_std=0.5,\n",
    "                hflip_prob=0.5,\n",
    "                vflip_prob=0.0,\n",
    "                do_crop=True,\n",
    "                add_noise=True,\n",
    "                crop_area_range=[0.75, 1.0],\n",
    "                aspect_ratio_range=[4./3., 3./4.]):\n",
    "        \n",
    "        self.prior_util = prior_util\n",
    "        self.batch_size = batch_size\n",
    "        self.input_size = input_size\n",
    "        \n",
    "        self.gt_util_train = gt_util_train\n",
    "        self.num_train_batches = gt_util_train.num_samples // batch_size\n",
    "        \n",
    "        self.gt_util_val = gt_util_val\n",
    "        self.num_val_batches = gt_util_val.num_samples // batch_size\n",
    "        \n",
    "        self.color_jitter = []\n",
    "        if saturation_var:\n",
    "            self.saturation_var = saturation_var\n",
    "            self.color_jitter.append(self.saturation)\n",
    "        if brightness_var:\n",
    "            self.brightness_var = brightness_var\n",
    "            self.color_jitter.append(self.brightness)\n",
    "        if contrast_var:\n",
    "            self.contrast_var = contrast_var\n",
    "            self.color_jitter.append(self.contrast)\n",
    "        self.lighting_std = lighting_std\n",
    "        self.hflip_prob = hflip_prob\n",
    "        self.vflip_prob = vflip_prob\n",
    "        self.do_crop = do_crop\n",
    "        self.add_noise = add_noise\n",
    "        self.crop_area_range = crop_area_range\n",
    "        self.aspect_ratio_range = aspect_ratio_range\n",
    "    \n",
    "    def __str__(self):\n",
    "        f = '%-20s %s\\n'\n",
    "        s = ''\n",
    "        s += f % ('input_size', self.input_size)\n",
    "        s += f % ('batch_size', self.num_batch_size)\n",
    "        s += f % ('num_train_samples', self.gt_util_train.num_samples)\n",
    "        s += f % ('num_train_batches', self.num_train_batches)\n",
    "        s += f % ('num_val_samples', self.gt_util_val.num_samples)\n",
    "        s += f % ('num_val_batches', self.val_batches)\n",
    "        return s\n",
    "    \n",
    "    def grayscale(self, rgb):\n",
    "        return rgb.dot([0.299, 0.587, 0.114])\n",
    "\n",
    "    def saturation(self, rgb):\n",
    "        gs = self.grayscale(rgb)\n",
    "        alpha = 2 * np.random.random() * self.saturation_var \n",
    "        alpha += 1 - self.saturation_var\n",
    "        rgb = rgb * alpha + (1 - alpha) * gs[:, :, None]\n",
    "        return np.clip(rgb, 0, 255)\n",
    "\n",
    "    def brightness(self, rgb):\n",
    "        alpha = 2 * np.random.random() * self.brightness_var \n",
    "        alpha += 1 - self.saturation_var\n",
    "        rgb = rgb * alpha\n",
    "        return np.clip(rgb, 0, 255)\n",
    "\n",
    "    def contrast(self, rgb):\n",
    "        gs = self.grayscale(rgb).mean() * np.ones_like(rgb)\n",
    "        alpha = 2 * np.random.random() * self.contrast_var \n",
    "        alpha += 1 - self.contrast_var\n",
    "        rgb = rgb * alpha + (1 - alpha) * gs\n",
    "        return np.clip(rgb, 0, 255)\n",
    "\n",
    "    def lighting(self, img):\n",
    "        cov = np.cov(img.reshape(-1, 3) / 255.0, rowvar=False)\n",
    "        eigval, eigvec = np.linalg.eigh(cov)\n",
    "        noise = np.random.randn(3) * self.lighting_std\n",
    "        noise = eigvec.dot(eigval * noise) * 255\n",
    "        img += noise\n",
    "        return np.clip(img, 0, 255)\n",
    "    \n",
    "    def noise(self, img):\n",
    "        img_size = img.shape[:2]\n",
    "        scale = np.random.randint(16)\n",
    "        noise = np.array(np.random.exponential(scale, img_size), dtype=np.int) * np.random.randint(-1,2, size=img_size)\n",
    "        #noise = np.array(np.random.normal(0, scale, img_size), dtype=np.int)\n",
    "        noise = np.repeat(noise[:, :, np.newaxis], 3, axis=2)\n",
    "        img = img + noise\n",
    "        return np.clip(img, 0, 255)\n",
    "    \n",
    "    def horizontal_flip(self, img, y):\n",
    "        if np.random.random() < self.hflip_prob:\n",
    "            img = img[:, ::-1]\n",
    "            num_coords = y.shape[1] - self.gt_util_train.num_classes\n",
    "            if num_coords == 8: # polygon case\n",
    "                y[:, [0, 2, 4, 6]] = 1 - y[:, [2, 0, 6, 4]]\n",
    "                y[:, [1, 3, 5, 7]] = y[:, [3, 1, 7, 5]]\n",
    "            else:\n",
    "                y[:, [0, 2]] = 1 - y[:, [2, 0]]    \n",
    "        return img, y\n",
    "    \n",
    "    def vertical_flip(self, img, y):\n",
    "        if np.random.random() < self.vflip_prob:\n",
    "            img = img[::-1]\n",
    "            if num_coords == 8: # polynom case\n",
    "                y[:, [0, 2, 4, 6]] = y[:, [6, 4, 2, 0]]\n",
    "                y[:, [1, 3, 5, 7]] = 1 - y[:, [7, 5, 3, 1]]\n",
    "            else:\n",
    "                y[:, [1, 3]] = 1 - y[:, [3, 1]]\n",
    "        return img, y\n",
    "    \n",
    "    def random_sized_crop(self, img, target):\n",
    "        img_h, img_w = img.shape[:2]\n",
    "        \n",
    "        # make sure that we can preserve the aspect ratio\n",
    "        ratio_range = self.aspect_ratio_range\n",
    "        random_ratio = ratio_range[0] + np.random.random() * (ratio_range[1] - ratio_range[0])\n",
    "        # a = w/h, w_i-w >= 0, h_i-h >= 0 leads to LP: max. h s.t. h <= w_i/a, h <= h_i\n",
    "        max_h = min(img_w/random_ratio, img_h)\n",
    "        max_w = max_h * random_ratio\n",
    "        \n",
    "        # scale the area\n",
    "        crop_range = self.crop_area_range\n",
    "        random_scale = crop_range[0] + np.random.random() * (crop_range[1] - crop_range[0])\n",
    "        target_area = random_scale * max_w * max_h\n",
    "        w = np.round(np.sqrt(target_area * random_ratio))\n",
    "        h = np.round(np.sqrt(target_area / random_ratio))\n",
    "        \n",
    "        x = np.random.random() * (img_w - w)\n",
    "        y = np.random.random() * (img_h - h)\n",
    "        \n",
    "        w_rel = w / img_w\n",
    "        h_rel = h / img_h\n",
    "        x_rel = x / img_w\n",
    "        y_rel = y / img_h\n",
    "        \n",
    "        w = int(w)\n",
    "        h = int(h)\n",
    "        x = int(x)\n",
    "        y = int(y)\n",
    "        \n",
    "        # crop image and transform boxes\n",
    "        new_img = img[y:y+h, x:x+w]\n",
    "        new_target = []\n",
    "        num_coords = target.shape[1] - self.gt_util_train.num_classes\n",
    "        new_target = []\n",
    "        if num_coords == 8: # polynom case\n",
    "            for box in target:\n",
    "                new_box = np.copy(box)\n",
    "                new_box[0:8:2] -= x_rel\n",
    "                new_box[0:8:2] /= w_rel\n",
    "                new_box[1:8:2] -= y_rel\n",
    "                new_box[1:8:2] /= h_rel\n",
    "                \n",
    "                if (new_box[0] < 1 and new_box[6] < 1 and new_box[2] > 0 and new_box[4] > 0 and \n",
    "                    new_box[1] < 1 and new_box[3] < 1 and new_box[5] > 0 and new_box[7] > 0):\n",
    "                    new_target.append(new_box)\n",
    "            new_target = np.asarray(new_target)\n",
    "        else:\n",
    "            for box in target:\n",
    "                xmin = (box[0] - x_rel) / w_rel\n",
    "                ymin = (box[1] - y_rel) / h_rel\n",
    "                xmax = (box[2] - x_rel) / w_rel\n",
    "                ymax = (box[3] - y_rel) / h_rel\n",
    "                box_w = xmax - xmin\n",
    "                box_h = ymax - ymin\n",
    "\n",
    "                # add only boxes if width and height is larger then 10% of original width and height\n",
    "                a = 0.1\n",
    "                if (xmax-0 > a*box_w and 1-xmin > a*box_w and\n",
    "                    ymax-0 > a*box_h and 1-ymin > a*box_h):\n",
    "                    new_box = np.copy(box)\n",
    "                    new_box[:4] = np.clip([xmin, ymin, xmax, ymax], 0, 1)\n",
    "                    new_target.append(new_box)\n",
    "            new_target = np.asarray(new_target).reshape(-1, target.shape[1])\n",
    "        return new_img, new_target\n",
    "    \n",
    "    def generate(self, train=True, augmentation=False, debug=False):\n",
    "        h, w = self.input_size\n",
    "        batch_size = self.batch_size\n",
    "        mean = np.array([104,117,123])\n",
    "        if train:\n",
    "            gt_util = self.gt_util_train\n",
    "            num_batches = self.num_train_batches\n",
    "        else:\n",
    "            gt_util = self.gt_util_val\n",
    "            num_batches = self.num_val_batches\n",
    "        \n",
    "        inputs = []\n",
    "        targets = []\n",
    "        \n",
    "        while True:\n",
    "            idxs = np.arange(gt_util.num_samples)\n",
    "            np.random.shuffle(idxs)\n",
    "            idxs = idxs[:num_batches*batch_size]\n",
    "            for j, i in enumerate(idxs):\n",
    "                img_name = gt_util.image_names[i]\n",
    "                img_path = os.path.join(gt_util.image_path, img_name)\n",
    "                img = cv2.imread(img_path)\n",
    "                y = np.copy(gt_util.data[i])\n",
    "                \n",
    "                if debug:\n",
    "                    raw_img = img.astype(np.float32)\n",
    "                    raw_y = np.copy(y)\n",
    "                \n",
    "                if augmentation:\n",
    "                    if self.do_crop:\n",
    "                        for _ in range(10): # tries to crop without losing ground truth\n",
    "                            img_tmp, y_tmp = self.random_sized_crop(img, y)\n",
    "                            if len(y_tmp) > 0:\n",
    "                                break\n",
    "                        if len(y_tmp) > 0:\n",
    "                            img = img_tmp\n",
    "                            y = y_tmp\n",
    "                        \n",
    "                    img = cv2.resize(img, (w,h), cv2.INTER_LINEAR)\n",
    "                    img = img.astype(np.float32)\n",
    "                    \n",
    "                    random.shuffle(self.color_jitter)\n",
    "                    for jitter in self.color_jitter:\n",
    "                        img = jitter(img)\n",
    "                    if self.lighting_std:\n",
    "                        img = self.lighting(img)\n",
    "                    if self.hflip_prob > 0:\n",
    "                        img, y = self.horizontal_flip(img, y)\n",
    "                    if self.vflip_prob > 0:\n",
    "                        img, y = self.vertical_flip(img, y)\n",
    "                    if self.add_noise:\n",
    "                        img = self.noise(img)\n",
    "                else:\n",
    "                    img = cv2.resize(img, (w,h), cv2.INTER_LINEAR)\n",
    "                    img = img.astype(np.float32)\n",
    "                \n",
    "                if debug:\n",
    "                    # origal gt image\n",
    "                    plt.figure()\n",
    "                    dbg_img = np.copy(raw_img)\n",
    "                    dbg_img /= 256\n",
    "                    dbg_img = dbg_img[:,:,(2,1,0)]\n",
    "                    plt.imshow(dbg_img)\n",
    "                    gt_util.plot_gt(raw_y)\n",
    "                    plt.show()\n",
    "                    # network input image\n",
    "                    plt.figure()\n",
    "                    dbg_img = np.copy(img)\n",
    "                    dbg_img /= 256\n",
    "                    dbg_img = dbg_img[:,:,(2,1,0)]\n",
    "                    plt.imshow(dbg_img)\n",
    "                    gt_util.plot_gt(y)\n",
    "                    plt.show()\n",
    "                    \n",
    "                img -= mean[np.newaxis, np.newaxis, :]\n",
    "                y = self.prior_util.encode(y)\n",
    "                \n",
    "                inputs.append(img)\n",
    "                targets.append(y)\n",
    "                \n",
    "                if len(targets) == batch_size or j == len(idxs)-1:\n",
    "                    # last batch in epoch can be smaller then batch_size\n",
    "                    tmp_input = np.array(inputs, dtype=np.float32)\n",
    "                    tmp_targets = np.array(targets, dtype=np.float32)\n",
    "                    inputs = []\n",
    "                    targets = []\n",
    "                    yield tmp_input, tmp_targets\n",
    "            print('\\nnew epoch, train', train)\n",
    "        print('\\nexit gen, train', train)"
   ]
  },
  {
   "cell_type": "markdown",
   "metadata": {},
   "source": [
    "### Generate some samples"
   ]
  },
  {
   "cell_type": "code",
   "execution_count": null,
   "metadata": {
    "collapsed": true,
    "scrolled": false
   },
   "outputs": [],
   "source": [
    "class PriorUtilDummy(object):\n",
    "    def encode(self, gt_data, overlap_threshold=0.5, debug=False):\n",
    "        return np.zeros((10,10))\n",
    "\n",
    "gen = InputGenerator(gt_util_train, gt_util_val, \n",
    "        PriorUtilDummy(), \n",
    "        8, (512, 512), \n",
    "        saturation_var=0.5,\n",
    "        brightness_var=0.5,\n",
    "        contrast_var=0.5,\n",
    "        lighting_std=0.5,\n",
    "        hflip_prob=0.0,\n",
    "        vflip_prob=0.0,\n",
    "        do_crop=True,\n",
    "        add_noise=True,\n",
    "        crop_area_range=[0.9, 1.0],\n",
    "        aspect_ratio_range=[3.9/3, 4.1/3])\n",
    "\n",
    "g = gen.generate(augmentation=True, debug=True)\n",
    "batch = next(g)"
   ]
  },
  {
   "cell_type": "code",
   "execution_count": null,
   "metadata": {
    "collapsed": true
   },
   "outputs": [],
   "source": []
  },
  {
   "cell_type": "code",
   "execution_count": null,
   "metadata": {
    "collapsed": true
   },
   "outputs": [],
   "source": []
  },
  {
   "cell_type": "code",
   "execution_count": null,
   "metadata": {
    "collapsed": true
   },
   "outputs": [],
   "source": []
  },
  {
   "cell_type": "code",
   "execution_count": null,
   "metadata": {
    "collapsed": true
   },
   "outputs": [],
   "source": []
  },
  {
   "cell_type": "code",
   "execution_count": null,
   "metadata": {
    "collapsed": true
   },
   "outputs": [],
   "source": []
  },
  {
   "cell_type": "code",
   "execution_count": null,
   "metadata": {
    "collapsed": true
   },
   "outputs": [],
   "source": []
  },
  {
   "cell_type": "code",
   "execution_count": null,
   "metadata": {
    "collapsed": true,
    "scrolled": true
   },
   "outputs": [],
   "source": [
    "g = gen.generate(train=False, augmentation=True)\n",
    "for i in range(20):\n",
    "    batch = next(g)\n",
    "    print(type(batch), len(batch[0]))\n",
    "    print(len(batch))\n",
    "    print(batch[0].shape)\n",
    "print('num_train_batches', gen.num_train_batches)\n",
    "print('num_val_batches', gen.num_val_batches)\n",
    "print('queue size', batch[0].nbytes*batch_size*10/(1024**3), 'GB')"
   ]
  },
  {
   "cell_type": "code",
   "execution_count": null,
   "metadata": {
    "collapsed": true
   },
   "outputs": [],
   "source": []
  }
 ],
 "metadata": {
  "kernelspec": {
   "display_name": "Python 3",
   "language": "python",
   "name": "python3"
  },
  "language_info": {
   "codemirror_mode": {
    "name": "ipython",
    "version": 3
   },
   "file_extension": ".py",
   "mimetype": "text/x-python",
   "name": "python",
   "nbconvert_exporter": "python",
   "pygments_lexer": "ipython3",
   "version": "3.5.2"
  }
 },
 "nbformat": 4,
 "nbformat_minor": 2
}
