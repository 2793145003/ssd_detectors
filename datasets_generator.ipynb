{
 "cells": [
  {
   "cell_type": "code",
   "execution_count": null,
   "metadata": {
    "collapsed": true
   },
   "outputs": [],
   "source": [
    "import numpy as np\n",
    "import matplotlib.pyplot as plt\n",
    "\n",
    "from ssd_data import InputGenerator"
   ]
  },
  {
   "cell_type": "markdown",
   "metadata": {},
   "source": [
    "### Split / Merge"
   ]
  },
  {
   "cell_type": "code",
   "execution_count": null,
   "metadata": {
    "collapsed": true
   },
   "outputs": [],
   "source": [
    "from data_voc import GTUtility\n",
    "gtu_voc = GTUtility('data/VOC2007/')\n",
    "from data_coco import GTUtility\n",
    "gtu_coco = GTUtility('data/COCO', validation=True)"
   ]
  },
  {
   "cell_type": "code",
   "execution_count": null,
   "metadata": {
    "collapsed": true
   },
   "outputs": [],
   "source": [
    "gtu_voc_coco = GTUtility.merge(gtu_voc, gtu_coco.convert_to_voc())\n",
    "#print(gtu_voc_coco)"
   ]
  },
  {
   "cell_type": "code",
   "execution_count": null,
   "metadata": {
    "collapsed": true
   },
   "outputs": [],
   "source": [
    "gtu_train, gtu_val = GTUtility.split(gtu_coco, 0.01)"
   ]
  },
  {
   "cell_type": "code",
   "execution_count": null,
   "metadata": {},
   "outputs": [],
   "source": [
    "idx, img, gt = gtu_voc_coco.sample()\n",
    "plt.figure(figsize=[10]*2)\n",
    "plt.imshow(img)\n",
    "gtu_voc_coco.plot_gt(gt, show_labels=True)\n",
    "plt.show()"
   ]
  },
  {
   "cell_type": "markdown",
   "metadata": {},
   "source": [
    "### Generator"
   ]
  },
  {
   "cell_type": "code",
   "execution_count": null,
   "metadata": {},
   "outputs": [],
   "source": [
    "epochs = 100\n",
    "batch_size = 8\n",
    "image_size = (512, 512)\n",
    "\n",
    "class PriorUtilDummy(object):\n",
    "    def encode(self, gt_data, overlap_threshold=0.5, debug=False):\n",
    "        #print(type(gt_data), gt_data.shape)\n",
    "        gt_data = np.zeros((2,10))\n",
    "        return gt_data\n",
    "\n",
    "prior_util = PriorUtilDummy()\n",
    "\n",
    "gen_train = InputGenerator(gtu_train, prior_util, \n",
    "        batch_size, image_size,\n",
    "        augmentation=False,\n",
    "        hflip_prob=0.5, vflip_prob=0.0, \n",
    "        do_crop=True,\n",
    "        #crop_area_range=[0.75, 1.0],\n",
    "        crop_area_range=[0.9, 1.0],\n",
    "        aspect_ratio_range=[3.8/3, 4.2/3])\n",
    "\n",
    "print(gtu_train.num_samples)\n",
    "print(gtu_val.num_samples)\n",
    "print(gen_train.num_batches)"
   ]
  },
  {
   "cell_type": "code",
   "execution_count": null,
   "metadata": {
    "scrolled": false
   },
   "outputs": [],
   "source": [
    "g = gen_train.generate(debug=False)\n",
    "for i in range(100):\n",
    "    samples = next(g)\n",
    "    print('.', end='')"
   ]
  },
  {
   "cell_type": "code",
   "execution_count": null,
   "metadata": {
    "scrolled": false
   },
   "outputs": [],
   "source": [
    "g = gen_train.generate(debug=True)\n",
    "samples = next(g)"
   ]
  },
  {
   "cell_type": "code",
   "execution_count": null,
   "metadata": {
    "collapsed": true
   },
   "outputs": [],
   "source": []
  },
  {
   "cell_type": "code",
   "execution_count": null,
   "metadata": {
    "collapsed": true
   },
   "outputs": [],
   "source": []
  }
 ],
 "metadata": {
  "kernelspec": {
   "display_name": "Python 3",
   "language": "python",
   "name": "python3"
  },
  "language_info": {
   "codemirror_mode": {
    "name": "ipython",
    "version": 3
   },
   "file_extension": ".py",
   "mimetype": "text/x-python",
   "name": "python",
   "nbconvert_exporter": "python",
   "pygments_lexer": "ipython3",
   "version": "3.5.2"
  }
 },
 "nbformat": 4,
 "nbformat_minor": 2
}
