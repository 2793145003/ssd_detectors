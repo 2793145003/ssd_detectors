{
 "cells": [
  {
   "cell_type": "code",
   "execution_count": 2,
   "metadata": {},
   "outputs": [],
   "source": [
    "import numpy as np\n",
    "import matplotlib.pyplot as plt\n",
    "import cv2\n",
    "import keras\n",
    "import keras.backend as K\n",
    "from keras.callbacks import Callback\n",
    "import tensorflow as tf\n",
    "import random\n",
    "import os\n",
    "import time\n",
    "import pickle\n",
    "\n",
    "from tb_model import TB300\n",
    "from ssd_utils import PriorUtil\n",
    "from ssd_utils import load_weights\n",
    "from ssd_data import InputGenerator\n",
    "from ssd_data import preprocess\n",
    "from ssd_training import SSDLoss, LearningRateDecay, Logger\n",
    "\n",
    "%matplotlib inline\n",
    "plt.rcParams['figure.figsize'] = [10]*2\n",
    "plt.rcParams['image.interpolation'] = 'nearest'\n",
    "\n",
    "np.set_printoptions(suppress=True, precision=5)\n",
    "\n",
    "#config = tf.ConfigProto()\n",
    "#config.gpu_options.per_process_gpu_memory_fraction = 0.9\n",
    "#set_session(tf.Session(config=config))"
   ]
  },
  {
   "cell_type": "markdown",
   "metadata": {},
   "source": [
    "### Data"
   ]
  },
  {
   "cell_type": "markdown",
   "metadata": {},
   "source": [
    "#### Dataset SynthText"
   ]
  },
  {
   "cell_type": "code",
   "execution_count": 3,
   "metadata": {},
   "outputs": [],
   "source": [
    "from data_synthtext import GTUtility\n",
    "with open('gt_util_synthtext_horizontal10.pkl', 'rb') as f:\n",
    "    gt_util = pickle.load(f)\n",
    "\n",
    "gt_util_train, gt_util_val = gt_util.split(gt_util, split=0.8)"
   ]
  },
  {
   "cell_type": "markdown",
   "metadata": {
    "collapsed": true
   },
   "source": [
    "#### Dataset ICDAR"
   ]
  },
  {
   "cell_type": "code",
   "execution_count": 2,
   "metadata": {
    "collapsed": true
   },
   "outputs": [],
   "source": [
    "from data_icdar2013 import GTUtility\n",
    "gt_util_train = GTUtility('data/ICDAR2013/')\n",
    "gt_util_val = GTUtility('data/ICDAR2013/', test=True)"
   ]
  },
  {
   "cell_type": "markdown",
   "metadata": {},
   "source": [
    "### Model"
   ]
  },
  {
   "cell_type": "code",
   "execution_count": 3,
   "metadata": {
    "collapsed": true
   },
   "outputs": [],
   "source": [
    "model = TB300()\n",
    "\n",
    "prior_util = PriorUtil(model)"
   ]
  },
  {
   "cell_type": "code",
   "execution_count": 4,
   "metadata": {
    "collapsed": true,
    "scrolled": true
   },
   "outputs": [],
   "source": [
    "initial_epoch = 0\n",
    "\n",
    "weights_path = '~/.keras/models/vgg16_weights_tf_dim_ordering_tf_kernels_notop.h5'\n",
    "layer_list = [('block1_conv1', 'conv1_1'),\n",
    "              ('block1_conv2', 'conv1_2'),\n",
    "              ('block2_conv1', 'conv2_1'),\n",
    "              ('block2_conv2', 'conv2_2'),\n",
    "              ('block3_conv1', 'conv3_1'),\n",
    "              ('block3_conv2', 'conv3_2'),\n",
    "              ('block3_conv3', 'conv3_3'),\n",
    "              ('block4_conv1', 'conv4_1'),\n",
    "              ('block4_conv2', 'conv4_2'),\n",
    "              ('block4_conv3', 'conv4_3'),\n",
    "              ('block5_conv1', 'conv5_1'),\n",
    "              ('block5_conv2', 'conv5_2'),\n",
    "              ('block5_conv3', 'conv5_3')]\n",
    "#load_weights(model, weights_path, layer_list)\n",
    "\n",
    "weights_path = 'ssd300_voc_weights_fixed.hdf5'\n",
    "weights_path = 'checkpoints/201710132146_tb300_synthtext_horizontal10/weights.004.h5'; initial_epoch = 5\n",
    "weights_path = 'checkpoints/201710141431_tb300_synthtext_horizontal10/weights.019.h5'; initial_epoch = 20\n",
    "\n",
    "load_weights(model, weights_path)\n",
    "\n",
    "freeze = ['conv1_1', 'conv1_2',\n",
    "          'conv2_1', 'conv2_2',\n",
    "          'conv3_1', 'conv3_2', 'conv3_3',\n",
    "          #'conv4_1', 'conv4_2', 'conv4_3',\n",
    "          #'conv5_1', 'conv5_2', 'conv5_3',\n",
    "         ]"
   ]
  },
  {
   "cell_type": "markdown",
   "metadata": {
    "collapsed": true
   },
   "source": [
    "### Training"
   ]
  },
  {
   "cell_type": "code",
   "execution_count": 5,
   "metadata": {
    "scrolled": true
   },
   "outputs": [
    {
     "name": "stderr",
     "output_type": "stream",
     "text": [
      "/home/mmh-mv/venv/lib/python3.5/site-packages/tensorflow/python/ops/gradients_impl.py:93: UserWarning: Converting sparse IndexedSlices to a dense Tensor of unknown shape. This may consume a large amount of memory.\n",
      "  \"Converting sparse IndexedSlices to a dense Tensor of unknown shape. \"\n"
     ]
    },
    {
     "name": "stdout",
     "output_type": "stream",
     "text": [
      "Epoch 21/100\n",
      "6/7 [========================>.....] - ETA: 1s - loss: 1.5263 - num_pos: 1648.1667 - num_neg: 1543.8333 - pos_conf_loss: 0.6235 - neg_conf_loss: 0.8548 - pos_loc_loss: 0.8001Epoch 00020: saving model to ./checkpoints/201710201924_tb300_synthtext_horizontal10/weights.020.h5\n",
      "7/7 [==============================] - 10s - loss: 1.4879 - num_pos: 1651.8571 - num_neg: 1598.8571 - pos_conf_loss: 0.6140 - neg_conf_loss: 0.8489 - pos_loc_loss: 0.7663 - val_loss: 1.4091 - val_num_pos: 1508.0000 - val_num_neg: 983.1429 - val_pos_conf_loss: 0.5811 - val_neg_conf_loss: 0.8785 - val_pos_loc_loss: 0.7107\n",
      "Epoch 22/100\n",
      "6/7 [========================>.....] - ETA: 0s - loss: 1.0798 - num_pos: 1682.5000 - num_neg: 1128.6667 - pos_conf_loss: 0.4543 - neg_conf_loss: 0.9088 - pos_loc_loss: 0.4437"
     ]
    },
    {
     "ename": "KeyboardInterrupt",
     "evalue": "",
     "output_type": "error",
     "traceback": [
      "\u001b[0;31m---------------------------------------------------------------------------\u001b[0m",
      "\u001b[0;31mKeyboardInterrupt\u001b[0m                         Traceback (most recent call last)",
      "\u001b[0;32m<ipython-input-5-05613af836dc>\u001b[0m in \u001b[0;36m<module>\u001b[0;34m()\u001b[0m\n\u001b[1;32m     60\u001b[0m                               \u001b[0mworkers\u001b[0m\u001b[0;34m=\u001b[0m\u001b[0;36m1\u001b[0m\u001b[0;34m,\u001b[0m\u001b[0;34m\u001b[0m\u001b[0m\n\u001b[1;32m     61\u001b[0m                               \u001b[0;31m#use_multiprocessing=False,\u001b[0m\u001b[0;34m\u001b[0m\u001b[0;34m\u001b[0m\u001b[0m\n\u001b[0;32m---> 62\u001b[0;31m                               initial_epoch=initial_epoch)\n\u001b[0m",
      "\u001b[0;32m/home/mmh-mv/venv/lib/python3.5/site-packages/keras/legacy/interfaces.py\u001b[0m in \u001b[0;36mwrapper\u001b[0;34m(*args, **kwargs)\u001b[0m\n\u001b[1;32m     86\u001b[0m                 warnings.warn('Update your `' + object_name +\n\u001b[1;32m     87\u001b[0m                               '` call to the Keras 2 API: ' + signature, stacklevel=2)\n\u001b[0;32m---> 88\u001b[0;31m             \u001b[0;32mreturn\u001b[0m \u001b[0mfunc\u001b[0m\u001b[0;34m(\u001b[0m\u001b[0;34m*\u001b[0m\u001b[0margs\u001b[0m\u001b[0;34m,\u001b[0m \u001b[0;34m**\u001b[0m\u001b[0mkwargs\u001b[0m\u001b[0;34m)\u001b[0m\u001b[0;34m\u001b[0m\u001b[0m\n\u001b[0m\u001b[1;32m     89\u001b[0m         \u001b[0mwrapper\u001b[0m\u001b[0;34m.\u001b[0m\u001b[0m_legacy_support_signature\u001b[0m \u001b[0;34m=\u001b[0m \u001b[0minspect\u001b[0m\u001b[0;34m.\u001b[0m\u001b[0mgetargspec\u001b[0m\u001b[0;34m(\u001b[0m\u001b[0mfunc\u001b[0m\u001b[0;34m)\u001b[0m\u001b[0;34m\u001b[0m\u001b[0m\n\u001b[1;32m     90\u001b[0m         \u001b[0;32mreturn\u001b[0m \u001b[0mwrapper\u001b[0m\u001b[0;34m\u001b[0m\u001b[0m\n",
      "\u001b[0;32m/home/mmh-mv/venv/lib/python3.5/site-packages/keras/engine/training.py\u001b[0m in \u001b[0;36mfit_generator\u001b[0;34m(self, generator, steps_per_epoch, epochs, verbose, callbacks, validation_data, validation_steps, class_weight, max_q_size, workers, pickle_safe, initial_epoch)\u001b[0m\n\u001b[1;32m   1897\u001b[0m                                 \u001b[0mmax_q_size\u001b[0m\u001b[0;34m=\u001b[0m\u001b[0mmax_q_size\u001b[0m\u001b[0;34m,\u001b[0m\u001b[0;34m\u001b[0m\u001b[0m\n\u001b[1;32m   1898\u001b[0m                                 \u001b[0mworkers\u001b[0m\u001b[0;34m=\u001b[0m\u001b[0mworkers\u001b[0m\u001b[0;34m,\u001b[0m\u001b[0;34m\u001b[0m\u001b[0m\n\u001b[0;32m-> 1899\u001b[0;31m                                 pickle_safe=pickle_safe)\n\u001b[0m\u001b[1;32m   1900\u001b[0m                         \u001b[0;32melse\u001b[0m\u001b[0;34m:\u001b[0m\u001b[0;34m\u001b[0m\u001b[0m\n\u001b[1;32m   1901\u001b[0m                             \u001b[0;31m# No need for try/except because\u001b[0m\u001b[0;34m\u001b[0m\u001b[0;34m\u001b[0m\u001b[0m\n",
      "\u001b[0;32m/home/mmh-mv/venv/lib/python3.5/site-packages/keras/legacy/interfaces.py\u001b[0m in \u001b[0;36mwrapper\u001b[0;34m(*args, **kwargs)\u001b[0m\n\u001b[1;32m     86\u001b[0m                 warnings.warn('Update your `' + object_name +\n\u001b[1;32m     87\u001b[0m                               '` call to the Keras 2 API: ' + signature, stacklevel=2)\n\u001b[0;32m---> 88\u001b[0;31m             \u001b[0;32mreturn\u001b[0m \u001b[0mfunc\u001b[0m\u001b[0;34m(\u001b[0m\u001b[0;34m*\u001b[0m\u001b[0margs\u001b[0m\u001b[0;34m,\u001b[0m \u001b[0;34m**\u001b[0m\u001b[0mkwargs\u001b[0m\u001b[0;34m)\u001b[0m\u001b[0;34m\u001b[0m\u001b[0m\n\u001b[0m\u001b[1;32m     89\u001b[0m         \u001b[0mwrapper\u001b[0m\u001b[0;34m.\u001b[0m\u001b[0m_legacy_support_signature\u001b[0m \u001b[0;34m=\u001b[0m \u001b[0minspect\u001b[0m\u001b[0;34m.\u001b[0m\u001b[0mgetargspec\u001b[0m\u001b[0;34m(\u001b[0m\u001b[0mfunc\u001b[0m\u001b[0;34m)\u001b[0m\u001b[0;34m\u001b[0m\u001b[0m\n\u001b[1;32m     90\u001b[0m         \u001b[0;32mreturn\u001b[0m \u001b[0mwrapper\u001b[0m\u001b[0;34m\u001b[0m\u001b[0m\n",
      "\u001b[0;32m/home/mmh-mv/venv/lib/python3.5/site-packages/keras/engine/training.py\u001b[0m in \u001b[0;36mevaluate_generator\u001b[0;34m(self, generator, steps, max_q_size, workers, pickle_safe)\u001b[0m\n\u001b[1;32m   1977\u001b[0m                         \u001b[0;32mbreak\u001b[0m\u001b[0;34m\u001b[0m\u001b[0m\n\u001b[1;32m   1978\u001b[0m                     \u001b[0;32melse\u001b[0m\u001b[0;34m:\u001b[0m\u001b[0;34m\u001b[0m\u001b[0m\n\u001b[0;32m-> 1979\u001b[0;31m                         \u001b[0mtime\u001b[0m\u001b[0;34m.\u001b[0m\u001b[0msleep\u001b[0m\u001b[0;34m(\u001b[0m\u001b[0mwait_time\u001b[0m\u001b[0;34m)\u001b[0m\u001b[0;34m\u001b[0m\u001b[0m\n\u001b[0m\u001b[1;32m   1980\u001b[0m \u001b[0;34m\u001b[0m\u001b[0m\n\u001b[1;32m   1981\u001b[0m                 \u001b[0;32mif\u001b[0m \u001b[0;32mnot\u001b[0m \u001b[0mhasattr\u001b[0m\u001b[0;34m(\u001b[0m\u001b[0mgenerator_output\u001b[0m\u001b[0;34m,\u001b[0m \u001b[0;34m'__len__'\u001b[0m\u001b[0;34m)\u001b[0m\u001b[0;34m:\u001b[0m\u001b[0;34m\u001b[0m\u001b[0m\n",
      "\u001b[0;31mKeyboardInterrupt\u001b[0m: "
     ]
    }
   ],
   "source": [
    "# TextBoxes paper\n",
    "# Momentum 0.9, weight decay 5e-4\n",
    "# lerning rate initially set to 1e−3 and decayed to 1e−4 after 40k iterations\n",
    "# SynthText for 50k iterations, finetune on ICDAR 2013 for 2k iterations\n",
    "\n",
    "experiment_name = 'tb300_synthtext_horizontal10'\n",
    "#experiment_name = 'tb300_icdar'\n",
    "\n",
    "epochs = 100\n",
    "batch_size = 32\n",
    "\n",
    "gen = InputGenerator(gt_util_train, gt_util_val, prior_util, \n",
    "        batch_size, model.image_size, hflip_prob=0.0, vflip_prob=0.0,\n",
    "        do_crop=False)\n",
    "\n",
    "# freeze layers\n",
    "for l in model.layers:\n",
    "    l.trainable = not l.name in freeze\n",
    "\n",
    "checkdir = './checkpoints/' + time.strftime('%Y%m%d%H%M') + '_' + experiment_name\n",
    "if not os.path.exists(checkdir):\n",
    "    os.makedirs(checkdir)\n",
    "\n",
    "with open(checkdir+'/source.py','wb') as f:\n",
    "    source = ''.join(['# In[%i]\\n%s\\n\\n' % (i, In[i]) for i in range(len(In))])\n",
    "    f.write(source.encode())\n",
    "\n",
    "#optim = keras.optimizers.SGD(lr=1e-3, momentum=0.9, decay=0, nesterov=True)\n",
    "#optim = keras.optimizers.Adam(lr=1e-3, beta_1=0.9, beta_2=0.999, epsilon=1e-08, decay=0.0)\n",
    "optim = keras.optimizers.Adam(lr=1e-4, beta_1=0.9, beta_2=0.999, epsilon=1e-08, decay=0.0)\n",
    "\n",
    "# weight decay\n",
    "regularizer = keras.regularizers.l2(5e-4) # None if disabled\n",
    "for l in model.layers:\n",
    "    if l.__class__.__name__.startswith('Conv'):\n",
    "        l.kernel_regularizer = regularizer\n",
    "\n",
    "loss = SSDLoss(alpha=1.0, neg_pos_ratio=3.0)\n",
    "\n",
    "model.compile(optimizer=optim,\n",
    "              loss=loss.compute,\n",
    "              metrics=loss.metrics)\n",
    "\n",
    "callbacks = [keras.callbacks.ModelCheckpoint(checkdir+'/weights.{epoch:03d}.h5',\n",
    "                                             verbose=1, save_weights_only=True),\n",
    "             Logger(checkdir),\n",
    "             # learning rate decay usesd with sgd\n",
    "             #LearningRateDecay(methode='linear', base_lr=1e-3, n_desired=40000, desired=0.1, bias=0.0, minimum=0.1)\n",
    "            ]\n",
    "\n",
    "history = model.fit_generator(gen.generate(train=True, augmentation=True), #generator, \n",
    "                              gen.num_train_batches, #steps_per_epoch, \n",
    "                              epochs=epochs, \n",
    "                              verbose=1, \n",
    "                              callbacks=callbacks, \n",
    "                              validation_data=gen.generate(train=False, augmentation=False), \n",
    "                              validation_steps=gen.num_val_batches, \n",
    "                              class_weight=None, \n",
    "                              #max_queue_size=10, \n",
    "                              workers=1, \n",
    "                              #use_multiprocessing=False, \n",
    "                              initial_epoch=initial_epoch)\n"
   ]
  },
  {
   "cell_type": "code",
   "execution_count": null,
   "metadata": {
    "collapsed": true
   },
   "outputs": [],
   "source": []
  },
  {
   "cell_type": "markdown",
   "metadata": {},
   "source": [
    "### Evaluation"
   ]
  },
  {
   "cell_type": "code",
   "execution_count": null,
   "metadata": {
    "collapsed": true
   },
   "outputs": [],
   "source": [
    "from data_icdar2013 import GTUtility as IcdarGTUtility\n",
    "gt_util_icdar = IcdarGTUtility('data/ICDAR2013/')"
   ]
  },
  {
   "cell_type": "code",
   "execution_count": null,
   "metadata": {
    "collapsed": true
   },
   "outputs": [],
   "source": [
    "gt_util = gt_util_val\n",
    "gt_util = gt_util_icdar\n",
    "\n",
    "#np.random.seed(1337)\n",
    "idxs = np.random.randint(0, gt_util.num_samples, 32)\n",
    "#idxs = np.arange(gt_util.num_samples)\n",
    "img_h, img_w = model.image_size\n",
    "\n",
    "data = []\n",
    "inputs = []\n",
    "images = []\n",
    "for i in idxs:\n",
    "    img_path = os.path.join(gt_util.image_path, gt_util.image_names[i])\n",
    "    img = cv2.imread(img_path)\n",
    "    inputs.append(preprocess(img, model.image_size))\n",
    "    img = cv2.resize(img, (img_w, img_h), cv2.INTER_LINEAR)\n",
    "    img = img[:, :, (2,1,0)] # BGR to RGB\n",
    "    img = img / 256.\n",
    "    images.append(img)\n",
    "    data.append(gt_util.data[i])\n",
    "inputs = np.asarray(inputs)\n",
    "\n",
    "preds = model.predict(inputs, batch_size=1, verbose=1)"
   ]
  },
  {
   "cell_type": "code",
   "execution_count": null,
   "metadata": {
    "collapsed": true
   },
   "outputs": [],
   "source": []
  },
  {
   "cell_type": "code",
   "execution_count": null,
   "metadata": {
    "collapsed": true,
    "scrolled": true
   },
   "outputs": [],
   "source": [
    "for i in range(len(preds)):\n",
    "    res = prior_util.decode(preds[i], confidence_threshold=0.6, keep_top_k=100)\n",
    "    if len(data[i]) > 0:\n",
    "        plt.figure()\n",
    "        plt.imshow(images[i])\n",
    "        prior_util.plot_results(res, classes=gt_util.classes, show_labels=True, gt_data=data[i])\n",
    "        plt.show()"
   ]
  },
  {
   "cell_type": "code",
   "execution_count": null,
   "metadata": {
    "collapsed": true
   },
   "outputs": [],
   "source": []
  },
  {
   "cell_type": "code",
   "execution_count": null,
   "metadata": {
    "collapsed": true
   },
   "outputs": [],
   "source": []
  },
  {
   "cell_type": "code",
   "execution_count": null,
   "metadata": {
    "collapsed": true
   },
   "outputs": [],
   "source": []
  }
 ],
 "metadata": {
  "kernelspec": {
   "display_name": "Python 3",
   "language": "python",
   "name": "python3"
  },
  "language_info": {
   "codemirror_mode": {
    "name": "ipython",
    "version": 3
   },
   "file_extension": ".py",
   "mimetype": "text/x-python",
   "name": "python",
   "nbconvert_exporter": "python",
   "pygments_lexer": "ipython3",
   "version": "3.5.2"
  }
 },
 "nbformat": 4,
 "nbformat_minor": 2
}
