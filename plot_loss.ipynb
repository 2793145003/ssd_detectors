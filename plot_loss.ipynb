{
 "cells": [
  {
   "cell_type": "code",
   "execution_count": null,
   "metadata": {},
   "outputs": [],
   "source": [
    "import numpy as np\n",
    "import matplotlib.pyplot as plt\n",
    "import json\n",
    "import pickle\n",
    "import os\n",
    "import glob\n",
    "\n",
    "from ssd_training import plot_log"
   ]
  },
  {
   "cell_type": "markdown",
   "metadata": {},
   "source": [
    " "
   ]
  },
  {
   "cell_type": "code",
   "execution_count": null,
   "metadata": {
    "scrolled": false
   },
   "outputs": [],
   "source": [
    "experiments = !ls -1 ./checkpoints\n",
    "print(experiments.n)"
   ]
  },
  {
   "cell_type": "markdown",
   "metadata": {},
   "source": [
    "### Log"
   ]
  },
  {
   "cell_type": "code",
   "execution_count": null,
   "metadata": {
    "scrolled": false
   },
   "outputs": [],
   "source": [
    "checkdir = './checkpoints/' + experiments[-1]\n",
    "\n",
    "names = [\n",
    "    'loss',\n",
    "    #'lr', \n",
    "    'seg_conf_loss', 'pos_seg_conf_loss', 'neg_seg_conf_loss',\n",
    "    'seg_loc_loss',\n",
    "    'link_conf_loss', 'pos_link_conf_loss', 'neg_link_conf_loss',\n",
    "    #'num_pos_seg', 'num_neg_seg', \n",
    "    #'num_pos_link', 'num_neg_link',\n",
    "    'seg_fmeasure', 'link_fmeasure',\n",
    "    'seg_precision', 'seg_recall',\n",
    "    'link_precision', 'link_recall',\n",
    "    # TBPP\n",
    "    'conf_loss', 'loc_loss',\n",
    "    'precision', 'recall', 'fmeasure'\n",
    "]\n",
    "#names = None\n",
    "\n",
    "#limits = [100, np.inf]\n",
    "#limits = [0, 14000]\n",
    "#limits = [14000, np.inf]\n",
    "limits = [400, np.inf]\n",
    "limits = None\n",
    "#limits = [3000,np.inf]\n",
    "#limits = [100, 1000]\n",
    "\n",
    "plot_log(checkdir+'/log.json', names, limits, window_length=2000)"
   ]
  },
  {
   "cell_type": "code",
   "execution_count": null,
   "metadata": {
    "collapsed": true
   },
   "outputs": [],
   "source": []
  },
  {
   "cell_type": "markdown",
   "metadata": {},
   "source": [
    "### History"
   ]
  },
  {
   "cell_type": "code",
   "execution_count": null,
   "metadata": {},
   "outputs": [],
   "source": [
    "with open(checkdir+'/history.json','r') as f:\n",
    "    hist = json.load(f)\n",
    "#print(list(hist.keys()))\n",
    "epochs = np.arange(1,len(hist['loss'])+1)\n",
    "plt.figure(figsize=(8,4))\n",
    "plt.plot(epochs, hist['loss'])\n",
    "plt.plot(epochs, hist['val_loss'])\n",
    "plt.title('loss')\n",
    "plt.legend(['training','validation'])\n",
    "#plt.xlim([0.0, 8.0])\n",
    "ax = plt.gca()\n",
    "ticks = np.arange(len(hist['loss']))+1\n",
    "ax.set_xticks(ticks)\n",
    "ax.set_xticklabels(ticks)\n",
    "plt.grid()\n",
    "plot_name = 'dsodsl512_sythtext_b'\n",
    "plt.savefig('plots/%s_loss.pgf' % (plot_name), bbox_inches='tight')\n",
    "plt.show()"
   ]
  },
  {
   "cell_type": "code",
   "execution_count": null,
   "metadata": {
    "collapsed": true
   },
   "outputs": [],
   "source": []
  },
  {
   "cell_type": "code",
   "execution_count": null,
   "metadata": {
    "scrolled": true
   },
   "outputs": [],
   "source": [
    "# SSD\n",
    "signals = ['pos_conf_loss', 'neg_conf_loss', 'pos_loc_loss']\n",
    "\n",
    "# SegLink\n",
    "signals = ['pos_seg_conf_loss', 'neg_seg_conf_loss', 'seg_loc_loss', 'pos_link_conf_loss', 'neg_link_conf_loss']\n",
    "#signals = ['num_pos_seg', 'num_neg_seg', 'num_pos_link', 'num_neg_link']\n",
    "signals = ['seg_conf_loss', 'seg_loc_loss', 'link_conf_loss']\n",
    "signals = ['seg_fmeasure', 'link_fmeasure', 'seg_precision', 'seg_recall', 'link_precision', 'link_recall']\n",
    "\n",
    "signals = ['seg_precision', 'seg_recall', 'seg_fmeasure']\n",
    "signals = ['link_precision', 'link_recall', 'link_fmeasure']\n",
    "\n",
    "signals = ['precision', 'recall', 'fmeasure']\n",
    "\n",
    "\n",
    "#signals = ['pos_conf_loss', 'neg_conf_loss', 'pos_loc_loss']\n",
    "\n",
    "fig, axs = plt.subplots(1, len(signals), figsize=(20,3))\n",
    "for i, s in enumerate(signals):\n",
    "    if s not in hist.keys():\n",
    "        print('missing %s' %(s))\n",
    "        continue\n",
    "    axs[i].plot(epochs, hist[s])\n",
    "    axs[i].plot(epochs, hist['val_'+s])\n",
    "    axs[i].set_title(s)\n",
    "    if s.split('_')[-1] in ['precision', 'recall', 'fmeasure']:\n",
    "        axs[i].set_ylim([0,1])\n",
    "    ticks = np.arange(len(hist['loss']))+1\n",
    "    axs[i].set_xticks(ticks)\n",
    "    axs[i].set_xticklabels(ticks)\n",
    "    axs[i].grid()\n",
    "#plt.savefig('plots/%s_links.pgf' % (plot_name), bbox_inches='tight')\n",
    "plt.show()"
   ]
  },
  {
   "cell_type": "code",
   "execution_count": null,
   "metadata": {
    "collapsed": true
   },
   "outputs": [],
   "source": []
  },
  {
   "cell_type": "code",
   "execution_count": null,
   "metadata": {
    "collapsed": true
   },
   "outputs": [],
   "source": []
  },
  {
   "cell_type": "markdown",
   "metadata": {},
   "source": [
    "### Compare Log"
   ]
  },
  {
   "cell_type": "code",
   "execution_count": null,
   "metadata": {
    "collapsed": true
   },
   "outputs": [],
   "source": [
    "# SegLink\n",
    "checkdir1 = './checkpoints/201711132011_dsodsl512_synthtext' # 2 epochs, OHNM\n",
    "checkdir2 = './checkpoints/201805161634_dsodsl512_synthtext' # 2 epochs, Focal Loss\n",
    "#checkdir1 = './checkpoints/201806021007_dsodsl512_synthtext' # 24 eopchs, 1/4 of training set\n",
    "\n",
    "#plot_log(checkdir1+'/log.json', ['loss'], None, window_length=2000, log_file_compare=checkdir2+'/log.json')"
   ]
  },
  {
   "cell_type": "code",
   "execution_count": null,
   "metadata": {
    "scrolled": false
   },
   "outputs": [],
   "source": [
    "# TextBoxes++\n",
    "checkdirs = !ls -1d ./checkpoints/*tbpp512fl_*\n",
    "print(checkdirs.n, '\\n')\n",
    "\n",
    "checkdir1, checkdir2 = checkdirs[0], checkdirs[3]\n",
    "checkdir1, checkdir2 = checkdirs[3], checkdirs[4]\n",
    "\n",
    "plot_log(checkdir1+'/log.json', ['loss', 'conf_loss', 'loc_loss', 'precision', 'recall', 'fmeasure'], [0*10000,np.inf], \n",
    "         log_file_compare=checkdir2+'/log.json',\n",
    "         window_length=2500)"
   ]
  },
  {
   "cell_type": "code",
   "execution_count": null,
   "metadata": {
    "collapsed": true
   },
   "outputs": [],
   "source": []
  },
  {
   "cell_type": "markdown",
   "metadata": {},
   "source": [
    "### Log playground"
   ]
  },
  {
   "cell_type": "code",
   "execution_count": null,
   "metadata": {
    "collapsed": true
   },
   "outputs": [],
   "source": [
    "limits = None\n",
    "\n",
    "with open(checkdir+'/log.json','r') as f:\n",
    "    data = f.readlines()\n",
    "\n",
    "keys = json.loads(data[0]).keys()\n",
    "d = {k:[] for k in keys}\n",
    "\n",
    "if names is None:\n",
    "    names = [k for k in keys if k not in ['epoch', 'batch', 'iteration']]\n",
    "\n",
    "for i, line in enumerate(data):\n",
    "    if not limits == None and (i < limits[0] or i > limits[1]):\n",
    "        continue\n",
    "    dat = json.loads(line)\n",
    "    for k in keys:\n",
    "        d[k].append(dat[k])\n",
    "\n",
    "d = {k:np.array(d[k]) for k in keys}"
   ]
  },
  {
   "cell_type": "code",
   "execution_count": null,
   "metadata": {
    "scrolled": true
   },
   "outputs": [],
   "source": [
    "fstr = '%-20s %-6s %-6s %-6s %12s %12s'\n",
    "print(fstr % ('name', 'len', 'nan', 'inf', 'min', 'max'))\n",
    "for k,v in d.items():\n",
    "    print(fstr % (\n",
    "        k, \n",
    "        len(v),\n",
    "        np.any(np.isnan(v)), \n",
    "        np.any(np.logical_not(np.isfinite(v))),\n",
    "        round(np.min(v), 6),\n",
    "        round(np.max(v), 6),\n",
    "    ))"
   ]
  },
  {
   "cell_type": "code",
   "execution_count": null,
   "metadata": {},
   "outputs": [],
   "source": [
    "plt.figure()\n",
    "plt.plot(d['batch']+d['epoch']*max(d['batch'])-d['iteration'])\n",
    "plt.show()\n",
    "d['iteration'][-1]"
   ]
  },
  {
   "cell_type": "code",
   "execution_count": null,
   "metadata": {
    "collapsed": true
   },
   "outputs": [],
   "source": []
  },
  {
   "cell_type": "code",
   "execution_count": null,
   "metadata": {},
   "outputs": [],
   "source": [
    "f = !df -h \n",
    "print(f[0], f[3], sep='\\n')\n",
    "f = !nvidia-smi\n",
    "print('', f[5], f[8], sep='\\n')"
   ]
  },
  {
   "cell_type": "code",
   "execution_count": null,
   "metadata": {
    "collapsed": true
   },
   "outputs": [],
   "source": []
  },
  {
   "cell_type": "code",
   "execution_count": null,
   "metadata": {
    "collapsed": true
   },
   "outputs": [],
   "source": []
  }
 ],
 "metadata": {
  "kernelspec": {
   "display_name": "Python 3",
   "language": "python",
   "name": "python3"
  },
  "language_info": {
   "codemirror_mode": {
    "name": "ipython",
    "version": 3
   },
   "file_extension": ".py",
   "mimetype": "text/x-python",
   "name": "python",
   "nbconvert_exporter": "python",
   "pygments_lexer": "ipython3",
   "version": "3.5.2"
  }
 },
 "nbformat": 4,
 "nbformat_minor": 2
}
